{
 "cells": [
  {
   "cell_type": "markdown",
   "metadata": {},
   "source": [
    "### The Problem statement:\n",
    "\n",
    "This data is about the amount spent on advertising through different channels like TV, Radio and Newspaper. The goal is to predict how the expense on each channel affects the sales and is there a way to optimise that sale?"
   ]
  },
  {
   "cell_type": "code",
   "execution_count": 1,
   "metadata": {
    "id": "81Imgbyfo1Xe"
   },
   "outputs": [],
   "source": [
    "# necessary Imports\n",
    "import pandas as pd\n",
    "import matplotlib.pyplot as plt\n",
    "import numpy as np\n",
    "import seaborn as sns"
   ]
  },
  {
   "cell_type": "code",
   "execution_count": 2,
   "metadata": {
    "id": "-rYy933Jo4K2"
   },
   "outputs": [],
   "source": [
    "data= pd.read_csv('Advertising.csv')"
   ]
  },
  {
   "cell_type": "code",
   "execution_count": 3,
   "metadata": {
    "colab": {
     "base_uri": "https://localhost:8080/",
     "height": 206
    },
    "executionInfo": {
     "elapsed": 715,
     "status": "ok",
     "timestamp": 1674136041336,
     "user": {
      "displayName": "AIML Program",
      "userId": "12349933480812372345"
     },
     "user_tz": -330
    },
    "id": "ugv9TTOFo7KH",
    "outputId": "c87ea345-0363-47b6-ce54-9ed46cf5fb4e"
   },
   "outputs": [
    {
     "data": {
      "text/html": [
       "<div>\n",
       "<style scoped>\n",
       "    .dataframe tbody tr th:only-of-type {\n",
       "        vertical-align: middle;\n",
       "    }\n",
       "\n",
       "    .dataframe tbody tr th {\n",
       "        vertical-align: top;\n",
       "    }\n",
       "\n",
       "    .dataframe thead th {\n",
       "        text-align: right;\n",
       "    }\n",
       "</style>\n",
       "<table border=\"1\" class=\"dataframe\">\n",
       "  <thead>\n",
       "    <tr style=\"text-align: right;\">\n",
       "      <th></th>\n",
       "      <th>Unnamed: 0</th>\n",
       "      <th>TV</th>\n",
       "      <th>radio</th>\n",
       "      <th>newspaper</th>\n",
       "      <th>sales</th>\n",
       "    </tr>\n",
       "  </thead>\n",
       "  <tbody>\n",
       "    <tr>\n",
       "      <th>0</th>\n",
       "      <td>1</td>\n",
       "      <td>230.1</td>\n",
       "      <td>37.8</td>\n",
       "      <td>69.2</td>\n",
       "      <td>22.1</td>\n",
       "    </tr>\n",
       "    <tr>\n",
       "      <th>1</th>\n",
       "      <td>2</td>\n",
       "      <td>44.5</td>\n",
       "      <td>39.3</td>\n",
       "      <td>45.1</td>\n",
       "      <td>10.4</td>\n",
       "    </tr>\n",
       "    <tr>\n",
       "      <th>2</th>\n",
       "      <td>3</td>\n",
       "      <td>17.2</td>\n",
       "      <td>45.9</td>\n",
       "      <td>69.3</td>\n",
       "      <td>9.3</td>\n",
       "    </tr>\n",
       "    <tr>\n",
       "      <th>3</th>\n",
       "      <td>4</td>\n",
       "      <td>151.5</td>\n",
       "      <td>41.3</td>\n",
       "      <td>58.5</td>\n",
       "      <td>18.5</td>\n",
       "    </tr>\n",
       "    <tr>\n",
       "      <th>4</th>\n",
       "      <td>5</td>\n",
       "      <td>180.8</td>\n",
       "      <td>10.8</td>\n",
       "      <td>58.4</td>\n",
       "      <td>12.9</td>\n",
       "    </tr>\n",
       "  </tbody>\n",
       "</table>\n",
       "</div>"
      ],
      "text/plain": [
       "   Unnamed: 0     TV  radio  newspaper  sales\n",
       "0           1  230.1   37.8       69.2   22.1\n",
       "1           2   44.5   39.3       45.1   10.4\n",
       "2           3   17.2   45.9       69.3    9.3\n",
       "3           4  151.5   41.3       58.5   18.5\n",
       "4           5  180.8   10.8       58.4   12.9"
      ]
     },
     "execution_count": 3,
     "metadata": {},
     "output_type": "execute_result"
    }
   ],
   "source": [
    "data.head() # checking the first five rows from the dataset"
   ]
  },
  {
   "cell_type": "code",
   "execution_count": 4,
   "metadata": {
    "colab": {
     "base_uri": "https://localhost:8080/"
    },
    "executionInfo": {
     "elapsed": 517,
     "status": "ok",
     "timestamp": 1674136298688,
     "user": {
      "displayName": "AIML Program",
      "userId": "12349933480812372345"
     },
     "user_tz": -330
    },
    "id": "1E-z3_1Do_52",
    "outputId": "b1ea217b-f3fc-4c5e-d82d-fd75cc7f197a"
   },
   "outputs": [
    {
     "data": {
      "text/plain": [
       "(200, 5)"
      ]
     },
     "execution_count": 4,
     "metadata": {},
     "output_type": "execute_result"
    }
   ],
   "source": [
    "data.shape"
   ]
  },
  {
   "cell_type": "code",
   "execution_count": 5,
   "metadata": {
    "id": "5pdX8LHb4Q3d"
   },
   "outputs": [],
   "source": [
    "data.drop('Unnamed: 0', axis = 1, inplace = True)"
   ]
  },
  {
   "cell_type": "markdown",
   "metadata": {},
   "source": [
    "What are the **features**?\n",
    "- TV: Advertising dollars spent on TV for a single product in a given market (in thousands of dollars)\n",
    "- Radio: Advertising dollars spent on Radio\n",
    "- Newspaper: Advertising dollars spent on Newspaper\n",
    "\n",
    "What is the **response**?\n",
    "- Sales: sales of a single product in a given market (in thousands of widgets)"
   ]
  },
  {
   "cell_type": "code",
   "execution_count": 6,
   "metadata": {
    "colab": {
     "base_uri": "https://localhost:8080/",
     "height": 423
    },
    "executionInfo": {
     "elapsed": 795,
     "status": "ok",
     "timestamp": 1674136317486,
     "user": {
      "displayName": "AIML Program",
      "userId": "12349933480812372345"
     },
     "user_tz": -330
    },
    "id": "TMTk1Iv7TNTM",
    "outputId": "1a4d2d66-bbc6-48fd-d2ee-9750a99ef6e0"
   },
   "outputs": [
    {
     "data": {
      "text/html": [
       "<div>\n",
       "<style scoped>\n",
       "    .dataframe tbody tr th:only-of-type {\n",
       "        vertical-align: middle;\n",
       "    }\n",
       "\n",
       "    .dataframe tbody tr th {\n",
       "        vertical-align: top;\n",
       "    }\n",
       "\n",
       "    .dataframe thead th {\n",
       "        text-align: right;\n",
       "    }\n",
       "</style>\n",
       "<table border=\"1\" class=\"dataframe\">\n",
       "  <thead>\n",
       "    <tr style=\"text-align: right;\">\n",
       "      <th></th>\n",
       "      <th>TV</th>\n",
       "      <th>radio</th>\n",
       "      <th>newspaper</th>\n",
       "      <th>sales</th>\n",
       "    </tr>\n",
       "  </thead>\n",
       "  <tbody>\n",
       "    <tr>\n",
       "      <th>0</th>\n",
       "      <td>230.1</td>\n",
       "      <td>37.8</td>\n",
       "      <td>69.2</td>\n",
       "      <td>22.1</td>\n",
       "    </tr>\n",
       "    <tr>\n",
       "      <th>1</th>\n",
       "      <td>44.5</td>\n",
       "      <td>39.3</td>\n",
       "      <td>45.1</td>\n",
       "      <td>10.4</td>\n",
       "    </tr>\n",
       "    <tr>\n",
       "      <th>2</th>\n",
       "      <td>17.2</td>\n",
       "      <td>45.9</td>\n",
       "      <td>69.3</td>\n",
       "      <td>9.3</td>\n",
       "    </tr>\n",
       "    <tr>\n",
       "      <th>3</th>\n",
       "      <td>151.5</td>\n",
       "      <td>41.3</td>\n",
       "      <td>58.5</td>\n",
       "      <td>18.5</td>\n",
       "    </tr>\n",
       "    <tr>\n",
       "      <th>4</th>\n",
       "      <td>180.8</td>\n",
       "      <td>10.8</td>\n",
       "      <td>58.4</td>\n",
       "      <td>12.9</td>\n",
       "    </tr>\n",
       "    <tr>\n",
       "      <th>...</th>\n",
       "      <td>...</td>\n",
       "      <td>...</td>\n",
       "      <td>...</td>\n",
       "      <td>...</td>\n",
       "    </tr>\n",
       "    <tr>\n",
       "      <th>195</th>\n",
       "      <td>38.2</td>\n",
       "      <td>3.7</td>\n",
       "      <td>13.8</td>\n",
       "      <td>7.6</td>\n",
       "    </tr>\n",
       "    <tr>\n",
       "      <th>196</th>\n",
       "      <td>94.2</td>\n",
       "      <td>4.9</td>\n",
       "      <td>8.1</td>\n",
       "      <td>9.7</td>\n",
       "    </tr>\n",
       "    <tr>\n",
       "      <th>197</th>\n",
       "      <td>177.0</td>\n",
       "      <td>9.3</td>\n",
       "      <td>6.4</td>\n",
       "      <td>12.8</td>\n",
       "    </tr>\n",
       "    <tr>\n",
       "      <th>198</th>\n",
       "      <td>283.6</td>\n",
       "      <td>42.0</td>\n",
       "      <td>66.2</td>\n",
       "      <td>25.5</td>\n",
       "    </tr>\n",
       "    <tr>\n",
       "      <th>199</th>\n",
       "      <td>232.1</td>\n",
       "      <td>8.6</td>\n",
       "      <td>8.7</td>\n",
       "      <td>13.4</td>\n",
       "    </tr>\n",
       "  </tbody>\n",
       "</table>\n",
       "<p>200 rows × 4 columns</p>\n",
       "</div>"
      ],
      "text/plain": [
       "        TV  radio  newspaper  sales\n",
       "0    230.1   37.8       69.2   22.1\n",
       "1     44.5   39.3       45.1   10.4\n",
       "2     17.2   45.9       69.3    9.3\n",
       "3    151.5   41.3       58.5   18.5\n",
       "4    180.8   10.8       58.4   12.9\n",
       "..     ...    ...        ...    ...\n",
       "195   38.2    3.7       13.8    7.6\n",
       "196   94.2    4.9        8.1    9.7\n",
       "197  177.0    9.3        6.4   12.8\n",
       "198  283.6   42.0       66.2   25.5\n",
       "199  232.1    8.6        8.7   13.4\n",
       "\n",
       "[200 rows x 4 columns]"
      ]
     },
     "execution_count": 6,
     "metadata": {},
     "output_type": "execute_result"
    }
   ],
   "source": [
    "data"
   ]
  },
  {
   "cell_type": "code",
   "execution_count": 7,
   "metadata": {
    "colab": {
     "base_uri": "https://localhost:8080/"
    },
    "executionInfo": {
     "elapsed": 696,
     "status": "ok",
     "timestamp": 1674136342622,
     "user": {
      "displayName": "AIML Program",
      "userId": "12349933480812372345"
     },
     "user_tz": -330
    },
    "id": "YrqWdnlbo_3g",
    "outputId": "94ecd652-d7c9-4874-84b6-0f9bb4093e34"
   },
   "outputs": [
    {
     "name": "stdout",
     "output_type": "stream",
     "text": [
      "<class 'pandas.core.frame.DataFrame'>\n",
      "RangeIndex: 200 entries, 0 to 199\n",
      "Data columns (total 4 columns):\n",
      " #   Column     Non-Null Count  Dtype  \n",
      "---  ------     --------------  -----  \n",
      " 0   TV         200 non-null    float64\n",
      " 1   radio      200 non-null    float64\n",
      " 2   newspaper  200 non-null    float64\n",
      " 3   sales      200 non-null    float64\n",
      "dtypes: float64(4)\n",
      "memory usage: 6.4 KB\n"
     ]
    }
   ],
   "source": [
    "data.info() # printing the summary of the dataframe"
   ]
  },
  {
   "cell_type": "code",
   "execution_count": 8,
   "metadata": {
    "colab": {
     "base_uri": "https://localhost:8080/"
    },
    "executionInfo": {
     "elapsed": 896,
     "status": "ok",
     "timestamp": 1674136398525,
     "user": {
      "displayName": "AIML Program",
      "userId": "12349933480812372345"
     },
     "user_tz": -330
    },
    "id": "RMTPFP6To_1H",
    "outputId": "4c1a1969-c907-4991-bbfe-b37cccf7ce4d"
   },
   "outputs": [
    {
     "data": {
      "text/plain": [
       "TV           0\n",
       "radio        0\n",
       "newspaper    0\n",
       "sales        0\n",
       "dtype: int64"
      ]
     },
     "execution_count": 8,
     "metadata": {},
     "output_type": "execute_result"
    }
   ],
   "source": [
    "data.isna().sum() # finding the count of missing values from different columns"
   ]
  },
  {
   "cell_type": "code",
   "execution_count": 9,
   "metadata": {
    "colab": {
     "base_uri": "https://localhost:8080/",
     "height": 514
    },
    "executionInfo": {
     "elapsed": 755,
     "status": "ok",
     "timestamp": 1674136586409,
     "user": {
      "displayName": "AIML Program",
      "userId": "12349933480812372345"
     },
     "user_tz": -330
    },
    "id": "5fxYcPkmo_yd",
    "outputId": "e1127038-0428-4e32-bf15-79a98aec9a07"
   },
   "outputs": [
    {
     "data": {
      "text/plain": [
       "<Axes: xlabel='newspaper', ylabel='sales'>"
      ]
     },
     "execution_count": 9,
     "metadata": {},
     "output_type": "execute_result"
    },
    {
     "data": {
      "image/png": "[encoded data removed]",
      "text/plain": [
       "<Figure size 1600x800 with 3 Axes>"
      ]
     },
     "metadata": {},
     "output_type": "display_data"
    }
   ],
   "source": [
    "# visualize the relationship between the features and the response using scatterplots\n",
    "fig, axs = plt.subplots(1, 3, sharey=True)\n",
    "data.plot(kind='scatter', x ='TV', y ='sales', ax=axs[0], figsize=(16, 8))\n",
    "data.plot(kind='scatter', x ='radio', y ='sales', ax=axs[1])\n",
    "data.plot(kind='scatter', x ='newspaper', y ='sales', ax=axs[2])"
   ]
  },
  {
   "cell_type": "code",
   "execution_count": 10,
   "metadata": {
    "colab": {
     "base_uri": "https://localhost:8080/",
     "height": 174
    },
    "executionInfo": {
     "elapsed": 1134,
     "status": "ok",
     "timestamp": 1674136838554,
     "user": {
      "displayName": "AIML Program",
      "userId": "12349933480812372345"
     },
     "user_tz": -330
    },
    "id": "ladhVYzN2YS4",
    "outputId": "7f9bac34-6e12-4c9a-d0f9-49de1e38a605"
   },
   "outputs": [
    {
     "data": {
      "text/html": [
       "<div>\n",
       "<style scoped>\n",
       "    .dataframe tbody tr th:only-of-type {\n",
       "        vertical-align: middle;\n",
       "    }\n",
       "\n",
       "    .dataframe tbody tr th {\n",
       "        vertical-align: top;\n",
       "    }\n",
       "\n",
       "    .dataframe thead th {\n",
       "        text-align: right;\n",
       "    }\n",
       "</style>\n",
       "<table border=\"1\" class=\"dataframe\">\n",
       "  <thead>\n",
       "    <tr style=\"text-align: right;\">\n",
       "      <th></th>\n",
       "      <th>TV</th>\n",
       "      <th>radio</th>\n",
       "      <th>newspaper</th>\n",
       "      <th>sales</th>\n",
       "    </tr>\n",
       "  </thead>\n",
       "  <tbody>\n",
       "    <tr>\n",
       "      <th>TV</th>\n",
       "      <td>1.000000</td>\n",
       "      <td>0.054809</td>\n",
       "      <td>0.056648</td>\n",
       "      <td>0.782224</td>\n",
       "    </tr>\n",
       "    <tr>\n",
       "      <th>radio</th>\n",
       "      <td>0.054809</td>\n",
       "      <td>1.000000</td>\n",
       "      <td>0.354104</td>\n",
       "      <td>0.576223</td>\n",
       "    </tr>\n",
       "    <tr>\n",
       "      <th>newspaper</th>\n",
       "      <td>0.056648</td>\n",
       "      <td>0.354104</td>\n",
       "      <td>1.000000</td>\n",
       "      <td>0.228299</td>\n",
       "    </tr>\n",
       "    <tr>\n",
       "      <th>sales</th>\n",
       "      <td>0.782224</td>\n",
       "      <td>0.576223</td>\n",
       "      <td>0.228299</td>\n",
       "      <td>1.000000</td>\n",
       "    </tr>\n",
       "  </tbody>\n",
       "</table>\n",
       "</div>"
      ],
      "text/plain": [
       "                 TV     radio  newspaper     sales\n",
       "TV         1.000000  0.054809   0.056648  0.782224\n",
       "radio      0.054809  1.000000   0.354104  0.576223\n",
       "newspaper  0.056648  0.354104   1.000000  0.228299\n",
       "sales      0.782224  0.576223   0.228299  1.000000"
      ]
     },
     "execution_count": 10,
     "metadata": {},
     "output_type": "execute_result"
    }
   ],
   "source": [
    "# Relation Between independent and dependent variable\n",
    "cor = data.corr()\n",
    "cor"
   ]
  },
  {
   "cell_type": "code",
   "execution_count": 11,
   "metadata": {
    "colab": {
     "base_uri": "https://localhost:8080/",
     "height": 449
    },
    "executionInfo": {
     "elapsed": 41,
     "status": "ok",
     "timestamp": 1674136839124,
     "user": {
      "displayName": "AIML Program",
      "userId": "12349933480812372345"
     },
     "user_tz": -330
    },
    "id": "S8Izrv1yAHsW",
    "outputId": "fab08f4b-3503-40fb-96d3-d902e6d1256a"
   },
   "outputs": [
    {
     "data": {
      "text/plain": [
       "<Axes: >"
      ]
     },
     "execution_count": 11,
     "metadata": {},
     "output_type": "execute_result"
    },
    {
     "data": {
      "image/png": "[encoded data removed]",
      "text/plain": [
       "<Figure size 1300x700 with 2 Axes>"
      ]
     },
     "metadata": {},
     "output_type": "display_data"
    }
   ],
   "source": [
    "plt.figure(figsize=(13, 7))\n",
    "sns.heatmap(cor, annot = True, cmap = 'BuGn_r')"
   ]
  },
  {
   "cell_type": "markdown",
   "metadata": {
    "id": "bpFtG03NEV11"
   },
   "source": [
    "## Data Pre-processing (Splitting)"
   ]
  },
  {
   "cell_type": "code",
   "execution_count": 12,
   "metadata": {
    "id": "KRIBV6Xeo_wE"
   },
   "outputs": [],
   "source": [
    "# create X and y\n",
    "#feature_cols = ['TV']\n",
    "X = data.drop('sales', axis = 1)  # Features\n",
    "y = data.sales                    # Target Variable"
   ]
  },
  {
   "cell_type": "code",
   "execution_count": 13,
   "metadata": {
    "colab": {
     "base_uri": "https://localhost:8080/"
    },
    "executionInfo": {
     "elapsed": 644,
     "status": "ok",
     "timestamp": 1674138058116,
     "user": {
      "displayName": "AIML Program",
      "userId": "12349933480812372345"
     },
     "user_tz": -330
    },
    "id": "29LGAd4pWtFD",
    "outputId": "8893bd2c-8ddd-4c17-e91f-5b5d0c6ab4f8"
   },
   "outputs": [
    {
     "data": {
      "text/plain": [
       "0      22.1\n",
       "1      10.4\n",
       "2       9.3\n",
       "3      18.5\n",
       "4      12.9\n",
       "       ... \n",
       "195     7.6\n",
       "196     9.7\n",
       "197    12.8\n",
       "198    25.5\n",
       "199    13.4\n",
       "Name: sales, Length: 200, dtype: float64"
      ]
     },
     "execution_count": 13,
     "metadata": {},
     "output_type": "execute_result"
    }
   ],
   "source": [
    "y"
   ]
  },
  {
   "cell_type": "code",
   "execution_count": 14,
   "metadata": {
    "id": "__CNcyXZo_rM"
   },
   "outputs": [],
   "source": [
    "# Train Test Split\n",
    "\n",
    "from sklearn.model_selection import train_test_split\n",
    "X_train, X_test, y_train, y_test = train_test_split(X, y, test_size=0.2, random_state=42)\n",
    "\n",
    "# X-train and Y-train is used for training the model.\n",
    "# X-test  is used for prediction.\n",
    "# Y-test is used for evaluation."
   ]
  },
  {
   "cell_type": "code",
   "execution_count": 15,
   "metadata": {
    "colab": {
     "base_uri": "https://localhost:8080/"
    },
    "executionInfo": {
     "elapsed": 2,
     "status": "ok",
     "timestamp": 1674137909826,
     "user": {
      "displayName": "AIML Program",
      "userId": "12349933480812372345"
     },
     "user_tz": -330
    },
    "id": "3cqSSBulESGU",
    "outputId": "e3f82f9e-b5b3-4681-a6ee-85ad49133460"
   },
   "outputs": [
    {
     "data": {
      "text/plain": [
       "((160, 3), (160,), (40, 3), (40,))"
      ]
     },
     "execution_count": 15,
     "metadata": {},
     "output_type": "execute_result"
    }
   ],
   "source": [
    "X_train.shape, y_train.shape, X_test.shape, y_test.shape"
   ]
  },
  {
   "cell_type": "code",
   "execution_count": 19,
   "metadata": {
    "colab": {
     "base_uri": "https://localhost:8080/",
     "height": 1000
    },
    "executionInfo": {
     "elapsed": 13,
     "status": "ok",
     "timestamp": 1674137910521,
     "user": {
      "displayName": "AIML Program",
      "userId": "12349933480812372345"
     },
     "user_tz": -330
    },
    "id": "VtK9M3zqYncX",
    "outputId": "251c13db-d948-4e46-a29d-92e1f2a0ab6c"
   },
   "outputs": [
    {
     "data": {
      "text/html": [
       "<div>\n",
       "<style scoped>\n",
       "    .dataframe tbody tr th:only-of-type {\n",
       "        vertical-align: middle;\n",
       "    }\n",
       "\n",
       "    .dataframe tbody tr th {\n",
       "        vertical-align: top;\n",
       "    }\n",
       "\n",
       "    .dataframe thead th {\n",
       "        text-align: right;\n",
       "    }\n",
       "</style>\n",
       "<table border=\"1\" class=\"dataframe\">\n",
       "  <thead>\n",
       "    <tr style=\"text-align: right;\">\n",
       "      <th></th>\n",
       "      <th>TV</th>\n",
       "      <th>radio</th>\n",
       "      <th>newspaper</th>\n",
       "    </tr>\n",
       "  </thead>\n",
       "  <tbody>\n",
       "    <tr>\n",
       "      <th>95</th>\n",
       "      <td>163.3</td>\n",
       "      <td>31.6</td>\n",
       "      <td>52.9</td>\n",
       "    </tr>\n",
       "    <tr>\n",
       "      <th>15</th>\n",
       "      <td>195.4</td>\n",
       "      <td>47.7</td>\n",
       "      <td>52.9</td>\n",
       "    </tr>\n",
       "    <tr>\n",
       "      <th>30</th>\n",
       "      <td>292.9</td>\n",
       "      <td>28.3</td>\n",
       "      <td>43.2</td>\n",
       "    </tr>\n",
       "    <tr>\n",
       "      <th>158</th>\n",
       "      <td>11.7</td>\n",
       "      <td>36.9</td>\n",
       "      <td>45.2</td>\n",
       "    </tr>\n",
       "    <tr>\n",
       "      <th>128</th>\n",
       "      <td>220.3</td>\n",
       "      <td>49.0</td>\n",
       "      <td>3.2</td>\n",
       "    </tr>\n",
       "    <tr>\n",
       "      <th>115</th>\n",
       "      <td>75.1</td>\n",
       "      <td>35.0</td>\n",
       "      <td>52.7</td>\n",
       "    </tr>\n",
       "    <tr>\n",
       "      <th>69</th>\n",
       "      <td>216.8</td>\n",
       "      <td>43.9</td>\n",
       "      <td>27.2</td>\n",
       "    </tr>\n",
       "    <tr>\n",
       "      <th>170</th>\n",
       "      <td>50.0</td>\n",
       "      <td>11.6</td>\n",
       "      <td>18.4</td>\n",
       "    </tr>\n",
       "    <tr>\n",
       "      <th>174</th>\n",
       "      <td>222.4</td>\n",
       "      <td>3.4</td>\n",
       "      <td>13.1</td>\n",
       "    </tr>\n",
       "    <tr>\n",
       "      <th>45</th>\n",
       "      <td>175.1</td>\n",
       "      <td>22.5</td>\n",
       "      <td>31.5</td>\n",
       "    </tr>\n",
       "    <tr>\n",
       "      <th>66</th>\n",
       "      <td>31.5</td>\n",
       "      <td>24.6</td>\n",
       "      <td>2.2</td>\n",
       "    </tr>\n",
       "    <tr>\n",
       "      <th>182</th>\n",
       "      <td>56.2</td>\n",
       "      <td>5.7</td>\n",
       "      <td>29.7</td>\n",
       "    </tr>\n",
       "    <tr>\n",
       "      <th>165</th>\n",
       "      <td>234.5</td>\n",
       "      <td>3.4</td>\n",
       "      <td>84.8</td>\n",
       "    </tr>\n",
       "    <tr>\n",
       "      <th>78</th>\n",
       "      <td>5.4</td>\n",
       "      <td>29.9</td>\n",
       "      <td>9.4</td>\n",
       "    </tr>\n",
       "    <tr>\n",
       "      <th>186</th>\n",
       "      <td>139.5</td>\n",
       "      <td>2.1</td>\n",
       "      <td>26.6</td>\n",
       "    </tr>\n",
       "    <tr>\n",
       "      <th>177</th>\n",
       "      <td>170.2</td>\n",
       "      <td>7.8</td>\n",
       "      <td>35.2</td>\n",
       "    </tr>\n",
       "    <tr>\n",
       "      <th>56</th>\n",
       "      <td>7.3</td>\n",
       "      <td>28.1</td>\n",
       "      <td>41.4</td>\n",
       "    </tr>\n",
       "    <tr>\n",
       "      <th>152</th>\n",
       "      <td>197.6</td>\n",
       "      <td>23.3</td>\n",
       "      <td>14.2</td>\n",
       "    </tr>\n",
       "    <tr>\n",
       "      <th>82</th>\n",
       "      <td>75.3</td>\n",
       "      <td>20.3</td>\n",
       "      <td>32.5</td>\n",
       "    </tr>\n",
       "    <tr>\n",
       "      <th>68</th>\n",
       "      <td>237.4</td>\n",
       "      <td>27.5</td>\n",
       "      <td>11.0</td>\n",
       "    </tr>\n",
       "    <tr>\n",
       "      <th>124</th>\n",
       "      <td>229.5</td>\n",
       "      <td>32.3</td>\n",
       "      <td>74.2</td>\n",
       "    </tr>\n",
       "    <tr>\n",
       "      <th>16</th>\n",
       "      <td>67.8</td>\n",
       "      <td>36.6</td>\n",
       "      <td>114.0</td>\n",
       "    </tr>\n",
       "    <tr>\n",
       "      <th>148</th>\n",
       "      <td>38.0</td>\n",
       "      <td>40.3</td>\n",
       "      <td>11.9</td>\n",
       "    </tr>\n",
       "    <tr>\n",
       "      <th>93</th>\n",
       "      <td>250.9</td>\n",
       "      <td>36.5</td>\n",
       "      <td>72.3</td>\n",
       "    </tr>\n",
       "    <tr>\n",
       "      <th>65</th>\n",
       "      <td>69.0</td>\n",
       "      <td>9.3</td>\n",
       "      <td>0.9</td>\n",
       "    </tr>\n",
       "    <tr>\n",
       "      <th>60</th>\n",
       "      <td>53.5</td>\n",
       "      <td>2.0</td>\n",
       "      <td>21.4</td>\n",
       "    </tr>\n",
       "    <tr>\n",
       "      <th>84</th>\n",
       "      <td>213.5</td>\n",
       "      <td>43.0</td>\n",
       "      <td>33.8</td>\n",
       "    </tr>\n",
       "    <tr>\n",
       "      <th>67</th>\n",
       "      <td>139.3</td>\n",
       "      <td>14.5</td>\n",
       "      <td>10.2</td>\n",
       "    </tr>\n",
       "    <tr>\n",
       "      <th>125</th>\n",
       "      <td>87.2</td>\n",
       "      <td>11.8</td>\n",
       "      <td>25.9</td>\n",
       "    </tr>\n",
       "    <tr>\n",
       "      <th>132</th>\n",
       "      <td>8.4</td>\n",
       "      <td>27.2</td>\n",
       "      <td>2.1</td>\n",
       "    </tr>\n",
       "    <tr>\n",
       "      <th>9</th>\n",
       "      <td>199.8</td>\n",
       "      <td>2.6</td>\n",
       "      <td>21.2</td>\n",
       "    </tr>\n",
       "    <tr>\n",
       "      <th>18</th>\n",
       "      <td>69.2</td>\n",
       "      <td>20.5</td>\n",
       "      <td>18.3</td>\n",
       "    </tr>\n",
       "    <tr>\n",
       "      <th>55</th>\n",
       "      <td>198.9</td>\n",
       "      <td>49.4</td>\n",
       "      <td>60.0</td>\n",
       "    </tr>\n",
       "    <tr>\n",
       "      <th>75</th>\n",
       "      <td>16.9</td>\n",
       "      <td>43.7</td>\n",
       "      <td>89.4</td>\n",
       "    </tr>\n",
       "    <tr>\n",
       "      <th>150</th>\n",
       "      <td>280.7</td>\n",
       "      <td>13.9</td>\n",
       "      <td>37.0</td>\n",
       "    </tr>\n",
       "    <tr>\n",
       "      <th>104</th>\n",
       "      <td>238.2</td>\n",
       "      <td>34.3</td>\n",
       "      <td>5.3</td>\n",
       "    </tr>\n",
       "    <tr>\n",
       "      <th>135</th>\n",
       "      <td>48.3</td>\n",
       "      <td>47.0</td>\n",
       "      <td>8.5</td>\n",
       "    </tr>\n",
       "    <tr>\n",
       "      <th>137</th>\n",
       "      <td>273.7</td>\n",
       "      <td>28.9</td>\n",
       "      <td>59.7</td>\n",
       "    </tr>\n",
       "    <tr>\n",
       "      <th>164</th>\n",
       "      <td>117.2</td>\n",
       "      <td>14.7</td>\n",
       "      <td>5.4</td>\n",
       "    </tr>\n",
       "    <tr>\n",
       "      <th>76</th>\n",
       "      <td>27.5</td>\n",
       "      <td>1.6</td>\n",
       "      <td>20.7</td>\n",
       "    </tr>\n",
       "  </tbody>\n",
       "</table>\n",
       "</div>"
      ],
      "text/plain": [
       "        TV  radio  newspaper\n",
       "95   163.3   31.6       52.9\n",
       "15   195.4   47.7       52.9\n",
       "30   292.9   28.3       43.2\n",
       "158   11.7   36.9       45.2\n",
       "128  220.3   49.0        3.2\n",
       "115   75.1   35.0       52.7\n",
       "69   216.8   43.9       27.2\n",
       "170   50.0   11.6       18.4\n",
       "174  222.4    3.4       13.1\n",
       "45   175.1   22.5       31.5\n",
       "66    31.5   24.6        2.2\n",
       "182   56.2    5.7       29.7\n",
       "165  234.5    3.4       84.8\n",
       "78     5.4   29.9        9.4\n",
       "186  139.5    2.1       26.6\n",
       "177  170.2    7.8       35.2\n",
       "56     7.3   28.1       41.4\n",
       "152  197.6   23.3       14.2\n",
       "82    75.3   20.3       32.5\n",
       "68   237.4   27.5       11.0\n",
       "124  229.5   32.3       74.2\n",
       "16    67.8   36.6      114.0\n",
       "148   38.0   40.3       11.9\n",
       "93   250.9   36.5       72.3\n",
       "65    69.0    9.3        0.9\n",
       "60    53.5    2.0       21.4\n",
       "84   213.5   43.0       33.8\n",
       "67   139.3   14.5       10.2\n",
       "125   87.2   11.8       25.9\n",
       "132    8.4   27.2        2.1\n",
       "9    199.8    2.6       21.2\n",
       "18    69.2   20.5       18.3\n",
       "55   198.9   49.4       60.0\n",
       "75    16.9   43.7       89.4\n",
       "150  280.7   13.9       37.0\n",
       "104  238.2   34.3        5.3\n",
       "135   48.3   47.0        8.5\n",
       "137  273.7   28.9       59.7\n",
       "164  117.2   14.7        5.4\n",
       "76    27.5    1.6       20.7"
      ]
     },
     "execution_count": 19,
     "metadata": {},
     "output_type": "execute_result"
    }
   ],
   "source": [
    "X_test"
   ]
  },
  {
   "cell_type": "markdown",
   "metadata": {
    "id": "GYcKNdjsEvv9"
   },
   "source": [
    "## Model Building & Evaluation"
   ]
  },
  {
   "cell_type": "code",
   "execution_count": 17,
   "metadata": {
    "colab": {
     "base_uri": "https://localhost:8080/"
    },
    "executionInfo": {
     "elapsed": 887,
     "status": "ok",
     "timestamp": 1674137997398,
     "user": {
      "displayName": "AIML Program",
      "userId": "12349933480812372345"
     },
     "user_tz": -330
    },
    "id": "JY2V0mL8kefl",
    "outputId": "bb35f53c-4bd8-4dda-b7a3-39c7d874148f"
   },
   "outputs": [
    {
     "data": {
      "text/html": [
       "<style>#sk-container-id-1 {color: black;}#sk-container-id-1 pre{padding: 0;}#sk-container-id-1 div.sk-toggleable {background-color: white;}#sk-container-id-1 label.sk-toggleable__label {cursor: pointer;display: block;width: 100%;margin-bottom: 0;padding: 0.3em;box-sizing: border-box;text-align: center;}#sk-container-id-1 label.sk-toggleable__label-arrow:before {content: \"▸\";float: left;margin-right: 0.25em;color: #696969;}#sk-container-id-1 label.sk-toggleable__label-arrow:hover:before {color: black;}#sk-container-id-1 div.sk-estimator:hover label.sk-toggleable__label-arrow:before {color: black;}#sk-container-id-1 div.sk-toggleable__content {max-height: 0;max-width: 0;overflow: hidden;text-align: left;background-color: #f0f8ff;}#sk-container-id-1 div.sk-toggleable__content pre {margin: 0.2em;color: black;border-radius: 0.25em;background-color: #f0f8ff;}#sk-container-id-1 input.sk-toggleable__control:checked~div.sk-toggleable__content {max-height: 200px;max-width: 100%;overflow: auto;}#sk-container-id-1 input.sk-toggleable__control:checked~label.sk-toggleable__label-arrow:before {content: \"▾\";}#sk-container-id-1 div.sk-estimator input.sk-toggleable__control:checked~label.sk-toggleable__label {background-color: #d4ebff;}#sk-container-id-1 div.sk-label input.sk-toggleable__control:checked~label.sk-toggleable__label {background-color: #d4ebff;}#sk-container-id-1 input.sk-hidden--visually {border: 0;clip: rect(1px 1px 1px 1px);clip: rect(1px, 1px, 1px, 1px);height: 1px;margin: -1px;overflow: hidden;padding: 0;position: absolute;width: 1px;}#sk-container-id-1 div.sk-estimator {font-family: monospace;background-color: #f0f8ff;border: 1px dotted black;border-radius: 0.25em;box-sizing: border-box;margin-bottom: 0.5em;}#sk-container-id-1 div.sk-estimator:hover {background-color: #d4ebff;}#sk-container-id-1 div.sk-parallel-item::after {content: \"\";width: 100%;border-bottom: 1px solid gray;flex-grow: 1;}#sk-container-id-1 div.sk-label:hover label.sk-toggleable__label {background-color: #d4ebff;}#sk-container-id-1 div.sk-serial::before {content: \"\";position: absolute;border-left: 1px solid gray;box-sizing: border-box;top: 0;bottom: 0;left: 50%;z-index: 0;}#sk-container-id-1 div.sk-serial {display: flex;flex-direction: column;align-items: center;background-color: white;padding-right: 0.2em;padding-left: 0.2em;position: relative;}#sk-container-id-1 div.sk-item {position: relative;z-index: 1;}#sk-container-id-1 div.sk-parallel {display: flex;align-items: stretch;justify-content: center;background-color: white;position: relative;}#sk-container-id-1 div.sk-item::before, #sk-container-id-1 div.sk-parallel-item::before {content: \"\";position: absolute;border-left: 1px solid gray;box-sizing: border-box;top: 0;bottom: 0;left: 50%;z-index: -1;}#sk-container-id-1 div.sk-parallel-item {display: flex;flex-direction: column;z-index: 1;position: relative;background-color: white;}#sk-container-id-1 div.sk-parallel-item:first-child::after {align-self: flex-end;width: 50%;}#sk-container-id-1 div.sk-parallel-item:last-child::after {align-self: flex-start;width: 50%;}#sk-container-id-1 div.sk-parallel-item:only-child::after {width: 0;}#sk-container-id-1 div.sk-dashed-wrapped {border: 1px dashed gray;margin: 0 0.4em 0.5em 0.4em;box-sizing: border-box;padding-bottom: 0.4em;background-color: white;}#sk-container-id-1 div.sk-label label {font-family: monospace;font-weight: bold;display: inline-block;line-height: 1.2em;}#sk-container-id-1 div.sk-label-container {text-align: center;}#sk-container-id-1 div.sk-container {/* jupyter's `normalize.less` sets `[hidden] { display: none; }` but bootstrap.min.css set `[hidden] { display: none !important; }` so we also need the `!important` here to be able to override the default hidden behavior on the sphinx rendered scikit-learn.org. See: https://github.com/scikit-learn/scikit-learn/issues/21755 */display: inline-block !important;position: relative;}#sk-container-id-1 div.sk-text-repr-fallback {display: none;}</style><div id=\"sk-container-id-1\" class=\"sk-top-container\"><div class=\"sk-text-repr-fallback\"><pre>LinearRegression()</pre><b>In a Jupyter environment, please rerun this cell to show the HTML representation or trust the notebook. <br />On GitHub, the HTML representation is unable to render, please try loading this page with nbviewer.org.</b></div><div class=\"sk-container\" hidden><div class=\"sk-item\"><div class=\"sk-estimator sk-toggleable\"><input class=\"sk-toggleable__control sk-hidden--visually\" id=\"sk-estimator-id-1\" type=\"checkbox\" checked><label for=\"sk-estimator-id-1\" class=\"sk-toggleable__label sk-toggleable__label-arrow\">LinearRegression</label><div class=\"sk-toggleable__content\"><pre>LinearRegression()</pre></div></div></div></div></div>"
      ],
      "text/plain": [
       "LinearRegression()"
      ]
     },
     "execution_count": 17,
     "metadata": {},
     "output_type": "execute_result"
    }
   ],
   "source": [
    "from sklearn.linear_model import LinearRegression\n",
    "reg = LinearRegression() \n",
    "\n",
    "reg.fit(X_train,y_train) #Fit the training data on a Linear Regression Model"
   ]
  },
  {
   "cell_type": "code",
   "execution_count": 18,
   "metadata": {
    "colab": {
     "base_uri": "https://localhost:8080/"
    },
    "executionInfo": {
     "elapsed": 1306,
     "status": "ok",
     "timestamp": 1674138973960,
     "user": {
      "displayName": "AIML Program",
      "userId": "12349933480812372345"
     },
     "user_tz": -330
    },
    "id": "PbFoDSuvdRVl",
    "outputId": "1d30de49-97e5-45b2-8d8a-23c102c482b9"
   },
   "outputs": [
    {
     "data": {
      "text/plain": [
       "array([0.04472952, 0.18919505, 0.00276111])"
      ]
     },
     "execution_count": 18,
     "metadata": {},
     "output_type": "execute_result"
    }
   ],
   "source": [
    "# checking the weights\n",
    "\n",
    "reg.coef_"
   ]
  },
  {
   "cell_type": "code",
   "execution_count": 19,
   "metadata": {
    "colab": {
     "base_uri": "https://localhost:8080/"
    },
    "executionInfo": {
     "elapsed": 709,
     "status": "ok",
     "timestamp": 1674139001323,
     "user": {
      "displayName": "AIML Program",
      "userId": "12349933480812372345"
     },
     "user_tz": -330
    },
    "id": "ywIjpzNqdaNs",
    "outputId": "32b444a7-03b9-449a-b922-4b71385bb513"
   },
   "outputs": [
    {
     "data": {
      "text/plain": [
       "2.9790673381226274"
      ]
     },
     "execution_count": 19,
     "metadata": {},
     "output_type": "execute_result"
    }
   ],
   "source": [
    "# CHECKING BIAS \n",
    "\n",
    "reg.intercept_"
   ]
  },
  {
   "cell_type": "code",
   "execution_count": 20,
   "metadata": {
    "id": "KPs4_T34kjuJ"
   },
   "outputs": [],
   "source": [
    "# Making Prediction on test data\n",
    "\n",
    "y_pred = reg.predict(X_test)"
   ]
  },
  {
   "cell_type": "code",
   "execution_count": 21,
   "metadata": {
    "colab": {
     "base_uri": "https://localhost:8080/"
    },
    "executionInfo": {
     "elapsed": 5,
     "status": "ok",
     "timestamp": 1667447185579,
     "user": {
      "displayName": "AIML Program",
      "userId": "12349933480812372345"
     },
     "user_tz": -330
    },
    "id": "iVbAhEBTG_Nz",
    "outputId": "eab91bdf-5dc9-4721-ba82-f233931e0c1e"
   },
   "outputs": [
    {
     "data": {
      "text/plain": [
       "array([16.4080242 , 20.88988209, 21.55384318, 10.60850256, 22.11237326,\n",
       "       13.10559172, 21.05719192,  7.46101034, 13.60634581, 15.15506967,\n",
       "        9.04831992,  6.65328312, 14.34554487,  8.90349333,  9.68959028,\n",
       "       12.16494386,  8.73628397, 16.26507258, 10.27759582, 18.83109103,\n",
       "       19.56036653, 13.25103464, 12.33620695, 21.30695132,  7.82740305,\n",
       "        5.80957448, 20.75753231, 11.98138077,  9.18349576,  8.5066991 ,\n",
       "       12.46646769, 10.00337695, 21.3876709 , 12.24966368, 18.26661538,\n",
       "       20.13766267, 14.05514005, 20.85411186, 11.0174441 ,  4.56899622])"
      ]
     },
     "execution_count": 21,
     "metadata": {},
     "output_type": "execute_result"
    }
   ],
   "source": [
    "y_pred"
   ]
  },
  {
   "cell_type": "code",
   "execution_count": 22,
   "metadata": {
    "colab": {
     "base_uri": "https://localhost:8080/"
    },
    "executionInfo": {
     "elapsed": 1194,
     "status": "ok",
     "timestamp": 1674138085389,
     "user": {
      "displayName": "AIML Program",
      "userId": "12349933480812372345"
     },
     "user_tz": -330
    },
    "id": "ymgNSB1BZ70w",
    "outputId": "8cf232f5-0a36-4a46-e74c-85f0867368df"
   },
   "outputs": [
    {
     "data": {
      "text/plain": [
       "95     16.9\n",
       "15     22.4\n",
       "30     21.4\n",
       "158     7.3\n",
       "128    24.7\n",
       "115    12.6\n",
       "69     22.3\n",
       "170     8.4\n",
       "174    11.5\n",
       "45     14.9\n",
       "66      9.5\n",
       "182     8.7\n",
       "165    11.9\n",
       "78      5.3\n",
       "186    10.3\n",
       "177    11.7\n",
       "56      5.5\n",
       "152    16.6\n",
       "82     11.3\n",
       "68     18.9\n",
       "124    19.7\n",
       "16     12.5\n",
       "148    10.9\n",
       "93     22.2\n",
       "65      9.3\n",
       "60      8.1\n",
       "84     21.7\n",
       "67     13.4\n",
       "125    10.6\n",
       "132     5.7\n",
       "9      10.6\n",
       "18     11.3\n",
       "55     23.7\n",
       "75      8.7\n",
       "150    16.1\n",
       "104    20.7\n",
       "135    11.6\n",
       "137    20.8\n",
       "164    11.9\n",
       "76      6.9\n",
       "Name: sales, dtype: float64"
      ]
     },
     "execution_count": 22,
     "metadata": {},
     "output_type": "execute_result"
    }
   ],
   "source": [
    "y_test"
   ]
  },
  {
   "cell_type": "code",
   "execution_count": 23,
   "metadata": {
    "colab": {
     "base_uri": "https://localhost:8080/"
    },
    "executionInfo": {
     "elapsed": 444,
     "status": "ok",
     "timestamp": 1674138153892,
     "user": {
      "displayName": "AIML Program",
      "userId": "12349933480812372345"
     },
     "user_tz": -330
    },
    "id": "wbvphUVxHGTT",
    "outputId": "7d2f6e7f-c62c-4f66-98a9-bf53aa2b7538"
   },
   "outputs": [
    {
     "name": "stdout",
     "output_type": "stream",
     "text": [
      "MAE: 1.4607567168117606\n",
      "MSE: 3.1740973539761046\n",
      "RMSE: 1.7815996615334502\n"
     ]
    }
   ],
   "source": [
    "# Evaluation\n",
    "\n",
    "from sklearn import metrics\n",
    "print('MAE:', metrics.mean_absolute_error(y_test, y_pred))\n",
    "print('MSE:', metrics.mean_squared_error(y_test, y_pred))\n",
    "print('RMSE:', np.sqrt(metrics.mean_squared_error(y_test, y_pred)))"
   ]
  },
  {
   "cell_type": "code",
   "execution_count": 24,
   "metadata": {
    "colab": {
     "base_uri": "https://localhost:8080/",
     "height": 351
    },
    "executionInfo": {
     "elapsed": 900,
     "status": "ok",
     "timestamp": 1674138273898,
     "user": {
      "displayName": "AIML Program",
      "userId": "12349933480812372345"
     },
     "user_tz": -330
    },
    "id": "kgReU84Pkoel",
    "outputId": "ba6b0f94-a818-4ebb-d70c-05fa51e3323e"
   },
   "outputs": [
    {
     "name": "stderr",
     "output_type": "stream",
     "text": [
      "C:\\Users\\Asus\\AppData\\Local\\Temp\\ipykernel_5972\\963874834.py:2: UserWarning: \n",
      "\n",
      "`distplot` is a deprecated function and will be removed in seaborn v0.14.0.\n",
      "\n",
      "Please adapt your code to use either `displot` (a figure-level function with\n",
      "similar flexibility) or `histplot` (an axes-level function for histograms).\n",
      "\n",
      "For a guide to updating your code to use the new functions, please see\n",
      "https://gist.github.com/mwaskom/de44147ed2974457ad6372750bbe5751\n",
      "\n",
      "  sns.distplot(y_test-y_pred)\n"
     ]
    },
    {
     "data": {
      "text/plain": [
       "<Axes: xlabel='sales', ylabel='Density'>"
      ]
     },
     "execution_count": 24,
     "metadata": {},
     "output_type": "execute_result"
    },
    {
     "data": {
      "image/png": "[encoded data removed]",
      "text/plain": [
       "<Figure size 640x480 with 1 Axes>"
      ]
     },
     "metadata": {},
     "output_type": "display_data"
    }
   ],
   "source": [
    "import seaborn as sns\n",
    "sns.distplot(y_test-y_pred)"
   ]
  },
  {
   "cell_type": "code",
   "execution_count": 25,
   "metadata": {
    "colab": {
     "base_uri": "https://localhost:8080/"
    },
    "executionInfo": {
     "elapsed": 569,
     "status": "ok",
     "timestamp": 1674138289411,
     "user": {
      "displayName": "AIML Program",
      "userId": "12349933480812372345"
     },
     "user_tz": -330
    },
    "id": "5RUIgZMk6DhH",
    "outputId": "be629273-3792-406a-a88c-b347ab940a20"
   },
   "outputs": [
    {
     "data": {
      "text/plain": [
       "0.899438024100912"
      ]
     },
     "execution_count": 25,
     "metadata": {},
     "output_type": "execute_result"
    }
   ],
   "source": [
    "from sklearn.metrics import r2_score\n",
    "r2_score(y_test, y_pred)"
   ]
  },
  {
   "cell_type": "markdown",
   "metadata": {
    "id": "VgUQpJD2I9eD"
   },
   "source": [
    "### Result: ***My Model is able to explain 90 % of the total data set.***"
   ]
  },
  {
   "cell_type": "markdown",
   "metadata": {
    "id": "iGKFcgbdiiB-"
   },
   "source": [
    "## Polynomial Regression\n",
    "\n",
    "\n",
    "\n"
   ]
  },
  {
   "cell_type": "code",
   "execution_count": 29,
   "metadata": {
    "colab": {
     "base_uri": "https://localhost:8080/",
     "height": 206
    },
    "executionInfo": {
     "elapsed": 1491,
     "status": "ok",
     "timestamp": 1667447270511,
     "user": {
      "displayName": "AIML Program",
      "userId": "12349933480812372345"
     },
     "user_tz": -330
    },
    "id": "ouyKQAYNky1F",
    "outputId": "695a5054-39da-41ab-f38e-caf2f2dab85c"
   },
   "outputs": [
    {
     "data": {
      "text/html": [
       "<div>\n",
       "<style scoped>\n",
       "    .dataframe tbody tr th:only-of-type {\n",
       "        vertical-align: middle;\n",
       "    }\n",
       "\n",
       "    .dataframe tbody tr th {\n",
       "        vertical-align: top;\n",
       "    }\n",
       "\n",
       "    .dataframe thead th {\n",
       "        text-align: right;\n",
       "    }\n",
       "</style>\n",
       "<table border=\"1\" class=\"dataframe\">\n",
       "  <thead>\n",
       "    <tr style=\"text-align: right;\">\n",
       "      <th></th>\n",
       "      <th>Unnamed: 0</th>\n",
       "      <th>Parents Income (AUD in 1000)</th>\n",
       "      <th>Child Performance (%)</th>\n",
       "    </tr>\n",
       "  </thead>\n",
       "  <tbody>\n",
       "    <tr>\n",
       "      <th>0</th>\n",
       "      <td>0</td>\n",
       "      <td>41.710999</td>\n",
       "      <td>30.384435</td>\n",
       "    </tr>\n",
       "    <tr>\n",
       "      <th>1</th>\n",
       "      <td>1</td>\n",
       "      <td>31.693796</td>\n",
       "      <td>30.777919</td>\n",
       "    </tr>\n",
       "    <tr>\n",
       "      <th>2</th>\n",
       "      <td>2</td>\n",
       "      <td>88.897711</td>\n",
       "      <td>70.979134</td>\n",
       "    </tr>\n",
       "    <tr>\n",
       "      <th>3</th>\n",
       "      <td>3</td>\n",
       "      <td>33.405135</td>\n",
       "      <td>30.691995</td>\n",
       "    </tr>\n",
       "    <tr>\n",
       "      <th>4</th>\n",
       "      <td>4</td>\n",
       "      <td>45.811534</td>\n",
       "      <td>34.269668</td>\n",
       "    </tr>\n",
       "  </tbody>\n",
       "</table>\n",
       "</div>"
      ],
      "text/plain": [
       "   Unnamed: 0  Parents Income (AUD in 1000)  Child Performance (%)\n",
       "0           0                     41.710999              30.384435\n",
       "1           1                     31.693796              30.777919\n",
       "2           2                     88.897711              70.979134\n",
       "3           3                     33.405135              30.691995\n",
       "4           4                     45.811534              34.269668"
      ]
     },
     "execution_count": 29,
     "metadata": {},
     "output_type": "execute_result"
    }
   ],
   "source": [
    "#importing the dataset\n",
    "dataset= pd.read_csv('6146991_1_ass1--1-.csv') # the full namespace of the file can be provided if the file is not in the same directory as the .ipynb or.py file\n",
    "dataset.head()  "
   ]
  },
  {
   "cell_type": "code",
   "execution_count": 30,
   "metadata": {
    "colab": {
     "base_uri": "https://localhost:8080/"
    },
    "executionInfo": {
     "elapsed": 672,
     "status": "ok",
     "timestamp": 1667447278413,
     "user": {
      "displayName": "AIML Program",
      "userId": "12349933480812372345"
     },
     "user_tz": -330
    },
    "id": "9Zh8f82q8kzy",
    "outputId": "c6cc84d4-faaa-4514-c596-0ad23a30e699"
   },
   "outputs": [
    {
     "data": {
      "text/plain": [
       "(2000, 3)"
      ]
     },
     "execution_count": 30,
     "metadata": {},
     "output_type": "execute_result"
    }
   ],
   "source": [
    "dataset.shape"
   ]
  },
  {
   "cell_type": "code",
   "execution_count": 31,
   "metadata": {
    "id": "vt8ZgpqPnOQp"
   },
   "outputs": [],
   "source": [
    "x = dataset['Parents Income (AUD in 1000)']\n",
    "x = np.array(x)\n",
    "y = dataset['Child Performance (%)']"
   ]
  },
  {
   "cell_type": "code",
   "execution_count": 32,
   "metadata": {
    "colab": {
     "base_uri": "https://localhost:8080/",
     "height": 315
    },
    "executionInfo": {
     "elapsed": 939,
     "status": "ok",
     "timestamp": 1667447396555,
     "user": {
      "displayName": "AIML Program",
      "userId": "12349933480812372345"
     },
     "user_tz": -330
    },
    "id": "pUv1buWoqQcn",
    "outputId": "a7a1c1ca-05fa-436a-9aa0-3d309ce08d17"
   },
   "outputs": [
    {
     "data": {
      "text/plain": [
       "<Axes: xlabel='Parents Income (AUD in 1000)', ylabel='Child Performance (%)'>"
      ]
     },
     "execution_count": 32,
     "metadata": {},
     "output_type": "execute_result"
    },
    {
     "data": {
      "text/plain": [
       "<Figure size 1200x600 with 0 Axes>"
      ]
     },
     "metadata": {},
     "output_type": "display_data"
    },
    {
     "data": {
      "image/png": "[encoded data removed]",
      "text/plain": [
       "<Figure size 640x480 with 1 Axes>"
      ]
     },
     "metadata": {},
     "output_type": "display_data"
    }
   ],
   "source": [
    "# visualize the relationship between the features and the response using scatterplots\n",
    "#fig, axs = plt.subplots(1, 3, sharey=True)\n",
    "plt.figure(figsize=(12, 6))\n",
    "dataset.plot(kind='scatter', x='Parents Income (AUD in 1000)', y='Child Performance (%)')"
   ]
  },
  {
   "cell_type": "code",
   "execution_count": 33,
   "metadata": {
    "colab": {
     "base_uri": "https://localhost:8080/"
    },
    "executionInfo": {
     "elapsed": 618,
     "status": "ok",
     "timestamp": 1667447659081,
     "user": {
      "displayName": "AIML Program",
      "userId": "12349933480812372345"
     },
     "user_tz": -330
    },
    "id": "_TahQCGQnZge",
    "outputId": "fc0eae2a-212f-44d4-d985-e8ec10229bd4"
   },
   "outputs": [
    {
     "data": {
      "text/html": [
       "<style>#sk-container-id-2 {color: black;background-color: white;}#sk-container-id-2 pre{padding: 0;}#sk-container-id-2 div.sk-toggleable {background-color: white;}#sk-container-id-2 label.sk-toggleable__label {cursor: pointer;display: block;width: 100%;margin-bottom: 0;padding: 0.3em;box-sizing: border-box;text-align: center;}#sk-container-id-2 label.sk-toggleable__label-arrow:before {content: \"▸\";float: left;margin-right: 0.25em;color: #696969;}#sk-container-id-2 label.sk-toggleable__label-arrow:hover:before {color: black;}#sk-container-id-2 div.sk-estimator:hover label.sk-toggleable__label-arrow:before {color: black;}#sk-container-id-2 div.sk-toggleable__content {max-height: 0;max-width: 0;overflow: hidden;text-align: left;background-color: #f0f8ff;}#sk-container-id-2 div.sk-toggleable__content pre {margin: 0.2em;color: black;border-radius: 0.25em;background-color: #f0f8ff;}#sk-container-id-2 input.sk-toggleable__control:checked~div.sk-toggleable__content {max-height: 200px;max-width: 100%;overflow: auto;}#sk-container-id-2 input.sk-toggleable__control:checked~label.sk-toggleable__label-arrow:before {content: \"▾\";}#sk-container-id-2 div.sk-estimator input.sk-toggleable__control:checked~label.sk-toggleable__label {background-color: #d4ebff;}#sk-container-id-2 div.sk-label input.sk-toggleable__control:checked~label.sk-toggleable__label {background-color: #d4ebff;}#sk-container-id-2 input.sk-hidden--visually {border: 0;clip: rect(1px 1px 1px 1px);clip: rect(1px, 1px, 1px, 1px);height: 1px;margin: -1px;overflow: hidden;padding: 0;position: absolute;width: 1px;}#sk-container-id-2 div.sk-estimator {font-family: monospace;background-color: #f0f8ff;border: 1px dotted black;border-radius: 0.25em;box-sizing: border-box;margin-bottom: 0.5em;}#sk-container-id-2 div.sk-estimator:hover {background-color: #d4ebff;}#sk-container-id-2 div.sk-parallel-item::after {content: \"\";width: 100%;border-bottom: 1px solid gray;flex-grow: 1;}#sk-container-id-2 div.sk-label:hover label.sk-toggleable__label {background-color: #d4ebff;}#sk-container-id-2 div.sk-serial::before {content: \"\";position: absolute;border-left: 1px solid gray;box-sizing: border-box;top: 0;bottom: 0;left: 50%;z-index: 0;}#sk-container-id-2 div.sk-serial {display: flex;flex-direction: column;align-items: center;background-color: white;padding-right: 0.2em;padding-left: 0.2em;position: relative;}#sk-container-id-2 div.sk-item {position: relative;z-index: 1;}#sk-container-id-2 div.sk-parallel {display: flex;align-items: stretch;justify-content: center;background-color: white;position: relative;}#sk-container-id-2 div.sk-item::before, #sk-container-id-2 div.sk-parallel-item::before {content: \"\";position: absolute;border-left: 1px solid gray;box-sizing: border-box;top: 0;bottom: 0;left: 50%;z-index: -1;}#sk-container-id-2 div.sk-parallel-item {display: flex;flex-direction: column;z-index: 1;position: relative;background-color: white;}#sk-container-id-2 div.sk-parallel-item:first-child::after {align-self: flex-end;width: 50%;}#sk-container-id-2 div.sk-parallel-item:last-child::after {align-self: flex-start;width: 50%;}#sk-container-id-2 div.sk-parallel-item:only-child::after {width: 0;}#sk-container-id-2 div.sk-dashed-wrapped {border: 1px dashed gray;margin: 0 0.4em 0.5em 0.4em;box-sizing: border-box;padding-bottom: 0.4em;background-color: white;}#sk-container-id-2 div.sk-label label {font-family: monospace;font-weight: bold;display: inline-block;line-height: 1.2em;}#sk-container-id-2 div.sk-label-container {text-align: center;}#sk-container-id-2 div.sk-container {/* jupyter's `normalize.less` sets `[hidden] { display: none; }` but bootstrap.min.css set `[hidden] { display: none !important; }` so we also need the `!important` here to be able to override the default hidden behavior on the sphinx rendered scikit-learn.org. See: https://github.com/scikit-learn/scikit-learn/issues/21755 */display: inline-block !important;position: relative;}#sk-container-id-2 div.sk-text-repr-fallback {display: none;}</style><div id=\"sk-container-id-2\" class=\"sk-top-container\"><div class=\"sk-text-repr-fallback\"><pre>LinearRegression()</pre><b>In a Jupyter environment, please rerun this cell to show the HTML representation or trust the notebook. <br />On GitHub, the HTML representation is unable to render, please try loading this page with nbviewer.org.</b></div><div class=\"sk-container\" hidden><div class=\"sk-item\"><div class=\"sk-estimator sk-toggleable\"><input class=\"sk-toggleable__control sk-hidden--visually\" id=\"sk-estimator-id-2\" type=\"checkbox\" checked><label for=\"sk-estimator-id-2\" class=\"sk-toggleable__label sk-toggleable__label-arrow\">LinearRegression</label><div class=\"sk-toggleable__content\"><pre>LinearRegression()</pre></div></div></div></div></div>"
      ],
      "text/plain": [
       "LinearRegression()"
      ]
     },
     "execution_count": 33,
     "metadata": {},
     "output_type": "execute_result"
    }
   ],
   "source": [
    "# Fitting Linear Regression to the dataset\n",
    "from sklearn.linear_model import LinearRegression\n",
    "lin_reg = LinearRegression()\n",
    "lin_reg.fit(x.reshape(-1,1), y)"
   ]
  },
  {
   "cell_type": "code",
   "execution_count": 34,
   "metadata": {
    "id": "5CgYyQBEniJE"
   },
   "outputs": [],
   "source": [
    "y_pred = lin_reg.predict(x.reshape(-1, 1))"
   ]
  },
  {
   "cell_type": "code",
   "execution_count": 35,
   "metadata": {
    "colab": {
     "base_uri": "https://localhost:8080/"
    },
    "executionInfo": {
     "elapsed": 578,
     "status": "ok",
     "timestamp": 1667447844081,
     "user": {
      "displayName": "AIML Program",
      "userId": "12349933480812372345"
     },
     "user_tz": -330
    },
    "id": "Mz9qYSGvnuwY",
    "outputId": "b7a5ef0f-3981-45a2-d802-42b47bfe2af3"
   },
   "outputs": [
    {
     "data": {
      "text/html": [
       "<style>#sk-container-id-3 {color: black;background-color: white;}#sk-container-id-3 pre{padding: 0;}#sk-container-id-3 div.sk-toggleable {background-color: white;}#sk-container-id-3 label.sk-toggleable__label {cursor: pointer;display: block;width: 100%;margin-bottom: 0;padding: 0.3em;box-sizing: border-box;text-align: center;}#sk-container-id-3 label.sk-toggleable__label-arrow:before {content: \"▸\";float: left;margin-right: 0.25em;color: #696969;}#sk-container-id-3 label.sk-toggleable__label-arrow:hover:before {color: black;}#sk-container-id-3 div.sk-estimator:hover label.sk-toggleable__label-arrow:before {color: black;}#sk-container-id-3 div.sk-toggleable__content {max-height: 0;max-width: 0;overflow: hidden;text-align: left;background-color: #f0f8ff;}#sk-container-id-3 div.sk-toggleable__content pre {margin: 0.2em;color: black;border-radius: 0.25em;background-color: #f0f8ff;}#sk-container-id-3 input.sk-toggleable__control:checked~div.sk-toggleable__content {max-height: 200px;max-width: 100%;overflow: auto;}#sk-container-id-3 input.sk-toggleable__control:checked~label.sk-toggleable__label-arrow:before {content: \"▾\";}#sk-container-id-3 div.sk-estimator input.sk-toggleable__control:checked~label.sk-toggleable__label {background-color: #d4ebff;}#sk-container-id-3 div.sk-label input.sk-toggleable__control:checked~label.sk-toggleable__label {background-color: #d4ebff;}#sk-container-id-3 input.sk-hidden--visually {border: 0;clip: rect(1px 1px 1px 1px);clip: rect(1px, 1px, 1px, 1px);height: 1px;margin: -1px;overflow: hidden;padding: 0;position: absolute;width: 1px;}#sk-container-id-3 div.sk-estimator {font-family: monospace;background-color: #f0f8ff;border: 1px dotted black;border-radius: 0.25em;box-sizing: border-box;margin-bottom: 0.5em;}#sk-container-id-3 div.sk-estimator:hover {background-color: #d4ebff;}#sk-container-id-3 div.sk-parallel-item::after {content: \"\";width: 100%;border-bottom: 1px solid gray;flex-grow: 1;}#sk-container-id-3 div.sk-label:hover label.sk-toggleable__label {background-color: #d4ebff;}#sk-container-id-3 div.sk-serial::before {content: \"\";position: absolute;border-left: 1px solid gray;box-sizing: border-box;top: 0;bottom: 0;left: 50%;z-index: 0;}#sk-container-id-3 div.sk-serial {display: flex;flex-direction: column;align-items: center;background-color: white;padding-right: 0.2em;padding-left: 0.2em;position: relative;}#sk-container-id-3 div.sk-item {position: relative;z-index: 1;}#sk-container-id-3 div.sk-parallel {display: flex;align-items: stretch;justify-content: center;background-color: white;position: relative;}#sk-container-id-3 div.sk-item::before, #sk-container-id-3 div.sk-parallel-item::before {content: \"\";position: absolute;border-left: 1px solid gray;box-sizing: border-box;top: 0;bottom: 0;left: 50%;z-index: -1;}#sk-container-id-3 div.sk-parallel-item {display: flex;flex-direction: column;z-index: 1;position: relative;background-color: white;}#sk-container-id-3 div.sk-parallel-item:first-child::after {align-self: flex-end;width: 50%;}#sk-container-id-3 div.sk-parallel-item:last-child::after {align-self: flex-start;width: 50%;}#sk-container-id-3 div.sk-parallel-item:only-child::after {width: 0;}#sk-container-id-3 div.sk-dashed-wrapped {border: 1px dashed gray;margin: 0 0.4em 0.5em 0.4em;box-sizing: border-box;padding-bottom: 0.4em;background-color: white;}#sk-container-id-3 div.sk-label label {font-family: monospace;font-weight: bold;display: inline-block;line-height: 1.2em;}#sk-container-id-3 div.sk-label-container {text-align: center;}#sk-container-id-3 div.sk-container {/* jupyter's `normalize.less` sets `[hidden] { display: none; }` but bootstrap.min.css set `[hidden] { display: none !important; }` so we also need the `!important` here to be able to override the default hidden behavior on the sphinx rendered scikit-learn.org. See: https://github.com/scikit-learn/scikit-learn/issues/21755 */display: inline-block !important;position: relative;}#sk-container-id-3 div.sk-text-repr-fallback {display: none;}</style><div id=\"sk-container-id-3\" class=\"sk-top-container\"><div class=\"sk-text-repr-fallback\"><pre>Pipeline(steps=[(&#x27;polynomial&#x27;, PolynomialFeatures()),\n",
       "                (&#x27;modal&#x27;, LinearRegression())])</pre><b>In a Jupyter environment, please rerun this cell to show the HTML representation or trust the notebook. <br />On GitHub, the HTML representation is unable to render, please try loading this page with nbviewer.org.</b></div><div class=\"sk-container\" hidden><div class=\"sk-item sk-dashed-wrapped\"><div class=\"sk-label-container\"><div class=\"sk-label sk-toggleable\"><input class=\"sk-toggleable__control sk-hidden--visually\" id=\"sk-estimator-id-3\" type=\"checkbox\" ><label for=\"sk-estimator-id-3\" class=\"sk-toggleable__label sk-toggleable__label-arrow\">Pipeline</label><div class=\"sk-toggleable__content\"><pre>Pipeline(steps=[(&#x27;polynomial&#x27;, PolynomialFeatures()),\n",
       "                (&#x27;modal&#x27;, LinearRegression())])</pre></div></div></div><div class=\"sk-serial\"><div class=\"sk-item\"><div class=\"sk-estimator sk-toggleable\"><input class=\"sk-toggleable__control sk-hidden--visually\" id=\"sk-estimator-id-4\" type=\"checkbox\" ><label for=\"sk-estimator-id-4\" class=\"sk-toggleable__label sk-toggleable__label-arrow\">PolynomialFeatures</label><div class=\"sk-toggleable__content\"><pre>PolynomialFeatures()</pre></div></div></div><div class=\"sk-item\"><div class=\"sk-estimator sk-toggleable\"><input class=\"sk-toggleable__control sk-hidden--visually\" id=\"sk-estimator-id-5\" type=\"checkbox\" ><label for=\"sk-estimator-id-5\" class=\"sk-toggleable__label sk-toggleable__label-arrow\">LinearRegression</label><div class=\"sk-toggleable__content\"><pre>LinearRegression()</pre></div></div></div></div></div></div></div>"
      ],
      "text/plain": [
       "Pipeline(steps=[('polynomial', PolynomialFeatures()),\n",
       "                ('modal', LinearRegression())])"
      ]
     },
     "execution_count": 35,
     "metadata": {},
     "output_type": "execute_result"
    }
   ],
   "source": [
    "# creating pipeline and fitting it on data\n",
    "from sklearn.preprocessing import PolynomialFeatures\n",
    "from sklearn.pipeline import Pipeline\n",
    "\n",
    "Input=[('polynomial',PolynomialFeatures(degree=2)),('modal',LinearRegression())]\n",
    "pipe=Pipeline(Input)\n",
    "pipe.fit(x.reshape(-1,1),y)"
   ]
  },
  {
   "cell_type": "code",
   "execution_count": 36,
   "metadata": {
    "id": "ovXHWcAIoKvC"
   },
   "outputs": [],
   "source": [
    "poly_pred = pipe.predict(x.reshape(-1,1))\n",
    "#sorting predicted values with respect to predictor\n",
    "sorted_zip = sorted(zip(x,poly_pred))\n",
    "x_poly, poly_pred = zip(*sorted_zip)"
   ]
  },
  {
   "cell_type": "code",
   "execution_count": 37,
   "metadata": {
    "colab": {
     "base_uri": "https://localhost:8080/"
    },
    "executionInfo": {
     "elapsed": 13,
     "status": "ok",
     "timestamp": 1661861818170,
     "user": {
      "displayName": "AIML Program",
      "userId": "12349933480812372345"
     },
     "user_tz": -330
    },
    "id": "jzPsHOi4rs9-",
    "outputId": "8dd29844-5c97-4c21-fb15-3589b2df09d6"
   },
   "outputs": [
    {
     "data": {
      "text/plain": [
       "(20.006693966609728,\n",
       " 20.163378499178435,\n",
       " 20.18500289089456,\n",
       " 20.18995724883327,\n",
       " 20.20874262499122,\n",
       " 20.229855016542217,\n",
       " 20.26637971542925,\n",
       " 20.382714348340976,\n",
       " 20.40508841574449,\n",
       " 20.40572568513173,\n",
       " 20.42169199775744,\n",
       " 20.43221264657494,\n",
       " 20.43518950886565,\n",
       " 20.45337874920702,\n",
       " 20.469252255644108,\n",
       " 20.49260824672392,\n",
       " 20.559155062085104,\n",
       " 20.64165880097036,\n",
       " 20.648266364244108,\n",
       " 20.71741281107977,\n",
       " 20.73429629583277,\n",
       " 20.77824781743063,\n",
       " 20.809793464986196,\n",
       " 20.92014269172907,\n",
       " 20.922005545293043,\n",
       " 20.957167769498252,\n",
       " 21.00025680713415,\n",
       " 21.046580365721358,\n",
       " 21.05131038343483,\n",
       " 21.057691906038272,\n",
       " 21.21452291773867,\n",
       " 21.258877651123058,\n",
       " 21.284661256068507,\n",
       " 21.30925835827454,\n",
       " 21.311968808949054,\n",
       " 21.322756543366232,\n",
       " 21.339576543908912,\n",
       " 21.486808908357915,\n",
       " 21.53027232877361,\n",
       " 21.552473078038208,\n",
       " 21.620067563541923,\n",
       " 21.704015954575706,\n",
       " 21.74065966607572,\n",
       " 21.75696755829791,\n",
       " 21.81470668714126,\n",
       " 21.82005259972236,\n",
       " 21.82681740900774,\n",
       " 21.877852778317155,\n",
       " 21.891887484261304,\n",
       " 21.893764953604943,\n",
       " 21.918031379433973,\n",
       " 22.011477033964617,\n",
       " 22.191917836727946,\n",
       " 22.21046310466216,\n",
       " 22.229572525418284,\n",
       " 22.24572811889676,\n",
       " 22.3300235738552,\n",
       " 22.37885426898273,\n",
       " 22.408689452854283,\n",
       " 22.447560222235072,\n",
       " 22.469483138115656,\n",
       " 22.534565305890798,\n",
       " 22.58894148560879,\n",
       " 22.589011420573115,\n",
       " 22.61818800073998,\n",
       " 22.648558480202333,\n",
       " 22.73903358650565,\n",
       " 22.781830137358718,\n",
       " 22.78922630251256,\n",
       " 22.822311398788266,\n",
       " 22.823567162169667,\n",
       " 22.82581601839621,\n",
       " 22.89645212750837,\n",
       " 22.899305232964277,\n",
       " 22.905193171293227,\n",
       " 22.96267305023031,\n",
       " 22.970376410419,\n",
       " 23.003948916567253,\n",
       " 23.07504089195918,\n",
       " 23.14914070279828,\n",
       " 23.190808562023,\n",
       " 23.198518616646176,\n",
       " 23.211186683593247,\n",
       " 23.297933012814084,\n",
       " 23.31948100749858,\n",
       " 23.370360234656147,\n",
       " 23.512634686978902,\n",
       " 23.60302494167736,\n",
       " 23.61207560943985,\n",
       " 23.647411309167108,\n",
       " 23.662238099928928,\n",
       " 23.77393409877105,\n",
       " 23.803190748982583,\n",
       " 23.8041861850896,\n",
       " 23.836459051487388,\n",
       " 23.897760631713005,\n",
       " 23.97581489233469,\n",
       " 23.9768061746984,\n",
       " 23.984485719047683,\n",
       " 24.023700535387604,\n",
       " 24.04421797999585,\n",
       " 24.07714260896244,\n",
       " 24.13567018299868,\n",
       " 24.178000254845884,\n",
       " 24.18069528852074,\n",
       " 24.246918877911227,\n",
       " 24.272976041961893,\n",
       " 24.30256820487675,\n",
       " 24.369743746573267,\n",
       " 24.400310410015575,\n",
       " 24.512131133719475,\n",
       " 24.53866439748012,\n",
       " 24.54748711744262,\n",
       " 24.559013195741937,\n",
       " 24.576607519329183,\n",
       " 24.59414945429802,\n",
       " 24.636585087515115,\n",
       " 24.658204662642945,\n",
       " 24.733456353608677,\n",
       " 24.76781695035079,\n",
       " 24.774472552859837,\n",
       " 24.77674546417979,\n",
       " 24.78995042544209,\n",
       " 25.035821494190166,\n",
       " 25.082894392045034,\n",
       " 25.195342655547257,\n",
       " 25.19939281699529,\n",
       " 25.21390399766593,\n",
       " 25.25062482415823,\n",
       " 25.271824327637397,\n",
       " 25.30716786368511,\n",
       " 25.31390963822375,\n",
       " 25.31811350948765,\n",
       " 25.34027321958001,\n",
       " 25.361302184152457,\n",
       " 25.418894566837267,\n",
       " 25.529635043978345,\n",
       " 25.641262270000222,\n",
       " 25.670573677596774,\n",
       " 25.783145050251683,\n",
       " 25.846666407541417,\n",
       " 25.87075458013808,\n",
       " 25.87578738701623,\n",
       " 25.99829482562448,\n",
       " 26.06065049907608,\n",
       " 26.09041698437052,\n",
       " 26.17284814844803,\n",
       " 26.209619639348205,\n",
       " 26.383009428118225,\n",
       " 26.41793407931988,\n",
       " 26.43645278694284,\n",
       " 26.45722662036721,\n",
       " 26.48700145649462,\n",
       " 26.54499759650505,\n",
       " 26.568312308791924,\n",
       " 26.630664312542542,\n",
       " 26.63378824096192,\n",
       " 26.70727205890785,\n",
       " 26.720802889675436,\n",
       " 26.79595093555534,\n",
       " 26.828900384342973,\n",
       " 26.88449310777859,\n",
       " 26.90946087998096,\n",
       " 26.97767016625475,\n",
       " 27.020724841561147,\n",
       " 27.03592849461127,\n",
       " 27.05865976872837,\n",
       " 27.059139161179864,\n",
       " 27.08079186107077,\n",
       " 27.137839360691167,\n",
       " 27.142840121988637,\n",
       " 27.183445975700337,\n",
       " 27.194561009169654,\n",
       " 27.25263506658454,\n",
       " 27.25526796166532,\n",
       " 27.28906295938608,\n",
       " 27.328161149079826,\n",
       " 27.38710255291671,\n",
       " 27.432493228828108,\n",
       " 27.473277228897235,\n",
       " 27.524011352495144,\n",
       " 27.54271590026893,\n",
       " 27.568796144436934,\n",
       " 27.67602083005124,\n",
       " 27.747403478703056,\n",
       " 27.764511716317443,\n",
       " 27.803492601770216,\n",
       " 27.86544746451222,\n",
       " 27.87134491005152,\n",
       " 27.973637399847576,\n",
       " 28.03182707812253,\n",
       " 28.143468304807165,\n",
       " 28.22674004212668,\n",
       " 28.28190461730844,\n",
       " 28.39898226818377,\n",
       " 28.503036062368395,\n",
       " 28.51279800677662,\n",
       " 28.52967799282797,\n",
       " 28.598563688689037,\n",
       " 28.608509749946727,\n",
       " 28.631495923124326,\n",
       " 28.64580052190928,\n",
       " 28.653932426234757,\n",
       " 28.68952394274543,\n",
       " 28.72408066149093,\n",
       " 28.750546357697225,\n",
       " 28.752741084565177,\n",
       " 28.766697677711328,\n",
       " 28.814797245459125,\n",
       " 28.866463894228023,\n",
       " 28.867122275416904,\n",
       " 28.900070079991337,\n",
       " 28.95631567057963,\n",
       " 28.9897319364826,\n",
       " 29.007719651484337,\n",
       " 29.028735670318824,\n",
       " 29.053665706231307,\n",
       " 29.060656125996505,\n",
       " 29.08115449621784,\n",
       " 29.111446952270448,\n",
       " 29.11642939689084,\n",
       " 29.134534548307627,\n",
       " 29.14825394404307,\n",
       " 29.1855159733206,\n",
       " 29.22703462571566,\n",
       " 29.254313229641184,\n",
       " 29.304453207515515,\n",
       " 29.368077539258508,\n",
       " 29.38447487870861,\n",
       " 29.403650983395416,\n",
       " 29.45039003911443,\n",
       " 29.452997162787355,\n",
       " 29.483305956021056,\n",
       " 29.48511432078224,\n",
       " 29.642010302352872,\n",
       " 29.699776005631577,\n",
       " 29.71456904808032,\n",
       " 29.7203081308003,\n",
       " 29.75105816400803,\n",
       " 29.78415240637069,\n",
       " 29.873395647749376,\n",
       " 29.88349583577156,\n",
       " 29.886510557778987,\n",
       " 29.956124749019555,\n",
       " 29.988375479167424,\n",
       " 30.035370047602985,\n",
       " 30.182444067707188,\n",
       " 30.18348938680681,\n",
       " 30.30606909496435,\n",
       " 30.37434126033319,\n",
       " 30.41838540158291,\n",
       " 30.43251011621568,\n",
       " 30.438606544482816,\n",
       " 30.457259706675792,\n",
       " 30.486842720137624,\n",
       " 30.54835206529665,\n",
       " 30.659994028447315,\n",
       " 30.71037630718085,\n",
       " 30.723354736069204,\n",
       " 30.73832408706716,\n",
       " 30.75809043792948,\n",
       " 30.7893698323094,\n",
       " 30.79462233708614,\n",
       " 30.82666656251748,\n",
       " 30.838483615352217,\n",
       " 30.953329505341078,\n",
       " 30.99475943840888,\n",
       " 31.15975416986992,\n",
       " 31.22588587702543,\n",
       " 31.38943189277284,\n",
       " 31.404527101002948,\n",
       " 31.42419702121221,\n",
       " 31.43231547667021,\n",
       " 31.6373485196924,\n",
       " 31.691147804658392,\n",
       " 31.693795811880268,\n",
       " 31.74439913037368,\n",
       " 31.79257357581557,\n",
       " 31.81184155512705,\n",
       " 31.8770281948295,\n",
       " 32.01710557778774,\n",
       " 32.06192638929046,\n",
       " 32.255053053719884,\n",
       " 32.27829321438273,\n",
       " 32.32973613518878,\n",
       " 32.34080274817906,\n",
       " 32.531920153989404,\n",
       " 32.58039083142657,\n",
       " 32.59990250199472,\n",
       " 32.60034823874016,\n",
       " 32.613201913731345,\n",
       " 32.62146825914463,\n",
       " 32.64747370729452,\n",
       " 32.68194331355387,\n",
       " 32.68612915838658,\n",
       " 32.77712034202032,\n",
       " 32.80823494319333,\n",
       " 32.88433528623224,\n",
       " 32.908279631578935,\n",
       " 32.93010164376797,\n",
       " 32.93653221814757,\n",
       " 32.95635506112983,\n",
       " 32.96414715717386,\n",
       " 32.993586154553824,\n",
       " 33.128174767545985,\n",
       " 33.24009796901494,\n",
       " 33.273600902214454,\n",
       " 33.27393531337506,\n",
       " 33.281719013663604,\n",
       " 33.31668681354846,\n",
       " 33.363348067250634,\n",
       " 33.405002984813066,\n",
       " 33.40513508272329,\n",
       " 33.42084355728262,\n",
       " 33.436558759925816,\n",
       " 33.438571105072235,\n",
       " 33.54120242524736,\n",
       " 33.602337972906824,\n",
       " 33.64748097646732,\n",
       " 33.65347486585601,\n",
       " 33.67178503170776,\n",
       " 33.746734179169394,\n",
       " 33.75026596515973,\n",
       " 33.85061183461723,\n",
       " 33.90041115154041,\n",
       " 33.90628254395547,\n",
       " 33.91018500219707,\n",
       " 33.93064277681384,\n",
       " 33.96838516699965,\n",
       " 33.97129755241959,\n",
       " 34.036477255222835,\n",
       " 34.281019085200064,\n",
       " 34.28953618877428,\n",
       " 34.30272490499058,\n",
       " 34.30574536682122,\n",
       " 34.34145807496415,\n",
       " 34.38621552510299,\n",
       " 34.42255918215427,\n",
       " 34.497049007969245,\n",
       " 34.56336919154851,\n",
       " 34.56745096313581,\n",
       " 34.58129977818771,\n",
       " 34.651174888712575,\n",
       " 34.652200561881266,\n",
       " 34.76180490892023,\n",
       " 34.80230850797231,\n",
       " 34.888481907404056,\n",
       " 34.929768567965766,\n",
       " 34.9392195351231,\n",
       " 34.98081838347052,\n",
       " 34.9810056644796,\n",
       " 35.031570860268246,\n",
       " 35.0333083130474,\n",
       " 35.07251462015531,\n",
       " 35.10486646446927,\n",
       " 35.12709989447133,\n",
       " 35.139708128694195,\n",
       " 35.16487771829758,\n",
       " 35.232688681269366,\n",
       " 35.31495031161213,\n",
       " 35.32064596763891,\n",
       " 35.402615257420045,\n",
       " 35.47092850405218,\n",
       " 35.50105515223863,\n",
       " 35.53248431608072,\n",
       " 35.54667037774961,\n",
       " 35.57422428986711,\n",
       " 35.5818540221076,\n",
       " 35.59269411170297,\n",
       " 35.66920096523391,\n",
       " 35.673014177575936,\n",
       " 35.71559401841079,\n",
       " 35.75420502604916,\n",
       " 35.769550804731395,\n",
       " 35.786574726464416,\n",
       " 35.937278479621895,\n",
       " 35.94043294224705,\n",
       " 35.95880194064442,\n",
       " 35.98790851824689,\n",
       " 36.00041151025885,\n",
       " 36.015996550306575,\n",
       " 36.14328345086872,\n",
       " 36.16677160182015,\n",
       " 36.29918230854031,\n",
       " 36.347846907764925,\n",
       " 36.377245784946766,\n",
       " 36.47444803135676,\n",
       " 36.49952065834567,\n",
       " 36.59795366956708,\n",
       " 36.60848656563056,\n",
       " 36.65913052655174,\n",
       " 36.72707647981167,\n",
       " 36.731554850032495,\n",
       " 36.74237979238935,\n",
       " 36.77479275608004,\n",
       " 36.84682164013745,\n",
       " 36.848992540406094,\n",
       " 36.99008944998356,\n",
       " 37.0499639760937,\n",
       " 37.0500403630992,\n",
       " 37.06780548888478,\n",
       " 37.09034592771437,\n",
       " 37.094044009032,\n",
       " 37.140394362042535,\n",
       " 37.15279906268208,\n",
       " 37.16053919788336,\n",
       " 37.17216085520637,\n",
       " 37.17815161150491,\n",
       " 37.20063700186696,\n",
       " 37.21898548603272,\n",
       " 37.22578460403493,\n",
       " 37.32737627625872,\n",
       " 37.3394438066445,\n",
       " 37.37177101430901,\n",
       " 37.381121993352586,\n",
       " 37.43901280071946,\n",
       " 37.62209033653114,\n",
       " 37.62594531344283,\n",
       " 37.64094360726276,\n",
       " 37.657492380890645,\n",
       " 37.66194345338192,\n",
       " 37.66853103031633,\n",
       " 37.72876438371029,\n",
       " 37.72908747504975,\n",
       " 37.757950663378,\n",
       " 37.76315136637407,\n",
       " 37.820438651468194,\n",
       " 37.84788714836452,\n",
       " 37.93872516240745,\n",
       " 37.9653671098097,\n",
       " 37.969538022913554,\n",
       " 37.992412961456175,\n",
       " 38.02425630698711,\n",
       " 38.04539417020951,\n",
       " 38.15693176197959,\n",
       " 38.16226507785391,\n",
       " 38.22079373001864,\n",
       " 38.22917311224221,\n",
       " 38.246648355946895,\n",
       " 38.31402566290622,\n",
       " 38.33347954090567,\n",
       " 38.4282584438368,\n",
       " 38.42871669712993,\n",
       " 38.47374060873823,\n",
       " 38.50955896646573,\n",
       " 38.51523028058973,\n",
       " 38.64563270833565,\n",
       " 38.66081550308167,\n",
       " 38.68184285510013,\n",
       " 38.7804407859712,\n",
       " 38.81927365218957,\n",
       " 38.83207828510091,\n",
       " 38.85304938973452,\n",
       " 38.93879383409193,\n",
       " 39.019888599030494,\n",
       " 39.07634521800195,\n",
       " 39.124055777503706,\n",
       " 39.1793848860394,\n",
       " 39.28655689379218,\n",
       " 39.358613624359286,\n",
       " 39.44437604048958,\n",
       " 39.46994887407329,\n",
       " 39.55396215807289,\n",
       " 39.59483186528718,\n",
       " 39.60110068891909,\n",
       " 39.652228567997696,\n",
       " 39.7049520924556,\n",
       " 39.78797728741028,\n",
       " 39.792439565167605,\n",
       " 39.80826771217892,\n",
       " 39.852866695435566,\n",
       " 39.87763005660234,\n",
       " 40.02309095939307,\n",
       " 40.049800412191885,\n",
       " 40.05632825744638,\n",
       " 40.06389510217855,\n",
       " 40.06792306197704,\n",
       " 40.079468974552,\n",
       " 40.09634852728755,\n",
       " 40.119610867849936,\n",
       " 40.123583382301824,\n",
       " 40.12734129876406,\n",
       " 40.160709180655374,\n",
       " 40.203566153950746,\n",
       " 40.23760153697573,\n",
       " 40.245368953897525,\n",
       " 40.25260545382881,\n",
       " 40.4218726578618,\n",
       " 40.43204292786393,\n",
       " 40.52451478456192,\n",
       " 40.52622641292709,\n",
       " 40.53453086495253,\n",
       " 40.54797037977971,\n",
       " 40.55032319681288,\n",
       " 40.5638160069558,\n",
       " 40.66721242261337,\n",
       " 40.73542525566821,\n",
       " 40.74695869018982,\n",
       " 40.78795241540293,\n",
       " 40.80221192688996,\n",
       " 40.88461792631509,\n",
       " 40.91869424745979,\n",
       " 40.98503430167239,\n",
       " 41.02725136631143,\n",
       " 41.03016173860519,\n",
       " 41.04949176623696,\n",
       " 41.105429743893765,\n",
       " 41.13287229363599,\n",
       " 41.183133717324,\n",
       " 41.2137295089844,\n",
       " 41.27494199892403,\n",
       " 41.30780659077861,\n",
       " 41.42222424807017,\n",
       " 41.42436464099228,\n",
       " 41.474413800803646,\n",
       " 41.48042928902086,\n",
       " 41.49772271291516,\n",
       " 41.53820895928615,\n",
       " 41.55435734105461,\n",
       " 41.57945420744557,\n",
       " 41.586210361007325,\n",
       " 41.6472179187915,\n",
       " 41.65635876023609,\n",
       " 41.65898966984077,\n",
       " 41.69412968250129,\n",
       " 41.710998549447744,\n",
       " 41.71430452632543,\n",
       " 41.73234652544905,\n",
       " 41.74392183272158,\n",
       " 41.79145147605935,\n",
       " 41.80982748164618,\n",
       " 41.85083586926884,\n",
       " 41.94510290458759,\n",
       " 42.05854116412961,\n",
       " 42.12908713908992,\n",
       " 42.17907686303736,\n",
       " 42.23465375754116,\n",
       " 42.25398184137434,\n",
       " 42.3217282395412,\n",
       " 42.40140831178081,\n",
       " 42.40254425993701,\n",
       " 42.41267994739184,\n",
       " 42.42695846636583,\n",
       " 42.64423187387393,\n",
       " 42.66692710510371,\n",
       " 42.67836042166458,\n",
       " 42.6981547231192,\n",
       " 42.82693390717815,\n",
       " 42.82902534061766,\n",
       " 42.86763001353096,\n",
       " 42.96839964519556,\n",
       " 43.05175799017732,\n",
       " 43.10689664242083,\n",
       " 43.10783586576348,\n",
       " 43.11826629212284,\n",
       " 43.1353578879635,\n",
       " 43.23754446941024,\n",
       " 43.35814428016364,\n",
       " 43.36060976549318,\n",
       " 43.41622291264447,\n",
       " 43.43687822545827,\n",
       " 43.45687680542255,\n",
       " 43.46264507811944,\n",
       " 43.50288696477439,\n",
       " 43.53567685887703,\n",
       " 43.536873041668656,\n",
       " 43.55418477936888,\n",
       " 43.59436364216226,\n",
       " 43.60261584391048,\n",
       " 43.64817985172115,\n",
       " 43.65904212235008,\n",
       " 43.71513546889575,\n",
       " 43.77397335439852,\n",
       " 43.84158786674167,\n",
       " 43.95852803685525,\n",
       " 43.959427118119706,\n",
       " 44.11276858367274,\n",
       " 44.2179732382107,\n",
       " 44.26947354070247,\n",
       " 44.30610246342346,\n",
       " 44.348771686149526,\n",
       " 44.393651452388,\n",
       " 44.44384272183683,\n",
       " 44.458951168647474,\n",
       " 44.4999182894483,\n",
       " 44.59908856972872,\n",
       " 44.614472113280144,\n",
       " 44.66287638206528,\n",
       " 44.66445846891855,\n",
       " 44.67564686684863,\n",
       " 44.67873326776886,\n",
       " 44.7033563708372,\n",
       " 44.71615464721259,\n",
       " 44.72231824069243,\n",
       " 44.75959603284522,\n",
       " 44.77059974723044,\n",
       " 44.77141637854557,\n",
       " 44.783342567900426,\n",
       " 44.80074789482656,\n",
       " 44.82404861365868,\n",
       " 44.8369167647476,\n",
       " 44.962300307353175,\n",
       " 44.979950359568136,\n",
       " 44.99578346404996,\n",
       " 45.03918037491043,\n",
       " 45.0781847505207,\n",
       " 45.10129285497692,\n",
       " 45.1310550330516,\n",
       " 45.14753946437131,\n",
       " 45.25387724412574,\n",
       " 45.25650502762584,\n",
       " 45.31302114825547,\n",
       " 45.33448168938249,\n",
       " 45.34092191886164,\n",
       " 45.36178492144596,\n",
       " 45.37934290458046,\n",
       " 45.43029847227335,\n",
       " 45.51176070753955,\n",
       " 45.51963563361764,\n",
       " 45.54442405800405,\n",
       " 45.57448584842633,\n",
       " 45.59115488806698,\n",
       " 45.69068786500289,\n",
       " 45.73036601055009,\n",
       " 45.81153363138796,\n",
       " 45.84202746453779,\n",
       " 45.85292316916396,\n",
       " 45.89497204913482,\n",
       " 45.92467754756241,\n",
       " 45.996141618701245,\n",
       " 46.03233948751428,\n",
       " 46.051072950993145,\n",
       " 46.159274691567866,\n",
       " 46.16458432504117,\n",
       " 46.19338650756453,\n",
       " 46.22628411790669,\n",
       " 46.24666997446837,\n",
       " 46.25428434199208,\n",
       " 46.309354839026994,\n",
       " 46.31539230678766,\n",
       " 46.327316329706285,\n",
       " 46.46159009231363,\n",
       " 46.48354774161788,\n",
       " 46.53182489249596,\n",
       " 46.55162905556848,\n",
       " 46.5615579270077,\n",
       " 46.58971615721461,\n",
       " 46.720754273812126,\n",
       " 46.737693720937166,\n",
       " 46.73876122290131,\n",
       " 46.74688933655648,\n",
       " 46.77608861121276,\n",
       " 46.78346905427333,\n",
       " 46.81974634055404,\n",
       " 46.86165429425721,\n",
       " 46.86861046847304,\n",
       " 46.889717314300285,\n",
       " 46.89026864792786,\n",
       " 46.90121939689682,\n",
       " 46.90750008840675,\n",
       " 46.9497789062741,\n",
       " 46.97413810415695,\n",
       " 46.981158377353786,\n",
       " 47.107177299051045,\n",
       " 47.11364613773948,\n",
       " 47.13482702444309,\n",
       " 47.16508637947635,\n",
       " 47.19387458646849,\n",
       " 47.2100204312595,\n",
       " 47.25490024719867,\n",
       " 47.32681218068643,\n",
       " 47.32957053830341,\n",
       " 47.34750794490181,\n",
       " 47.424811788692935,\n",
       " 47.48784599153203,\n",
       " 47.4947022501935,\n",
       " 47.49676877718605,\n",
       " 47.55189984439384,\n",
       " 47.56174128429574,\n",
       " 47.562075339901625,\n",
       " 47.60400076409897,\n",
       " 47.64380037182433,\n",
       " 47.65608097720594,\n",
       " 47.72329636501578,\n",
       " 47.73543906716743,\n",
       " 47.768217587331264,\n",
       " 47.79581362420452,\n",
       " 47.84528840967701,\n",
       " 47.88511419848943,\n",
       " 47.904785284882784,\n",
       " 47.9556883651059,\n",
       " 48.033508988073365,\n",
       " 48.03624010106978,\n",
       " 48.0572811587156,\n",
       " 48.07704624465878,\n",
       " 48.08386798137828,\n",
       " 48.084577016440136,\n",
       " 48.14118539972499,\n",
       " 48.20976078163092,\n",
       " 48.27788412412293,\n",
       " 48.31687660025605,\n",
       " 48.41941217782093,\n",
       " 48.44975565822967,\n",
       " 48.50330442976056,\n",
       " 48.52952213103982,\n",
       " 48.56050269087319,\n",
       " 48.58798528920225,\n",
       " 48.73792977810364,\n",
       " 48.80183886673636,\n",
       " 48.82034204122564,\n",
       " 48.82395429466757,\n",
       " 48.93834213687565,\n",
       " 48.95120510759854,\n",
       " 49.01446251470507,\n",
       " 49.0236937842683,\n",
       " 49.04779973327713,\n",
       " 49.11867469458926,\n",
       " 49.12090191575128,\n",
       " 49.16446180943046,\n",
       " 49.18893807152892,\n",
       " 49.2077648215128,\n",
       " 49.28035359801334,\n",
       " 49.33997827792189,\n",
       " 49.374743861244525,\n",
       " 49.3763224591263,\n",
       " 49.37975510636073,\n",
       " 49.38271397798399,\n",
       " 49.42414244351134,\n",
       " 49.430558526969335,\n",
       " 49.448635540505535,\n",
       " 49.60177414247906,\n",
       " 49.71150633185249,\n",
       " 49.72785005157977,\n",
       " 49.86822934836641,\n",
       " 49.89451098226267,\n",
       " 49.92167904967663,\n",
       " 49.92337433542436,\n",
       " 50.00532953555337,\n",
       " 50.05889472965591,\n",
       " 50.076147804592814,\n",
       " 50.10356912537584,\n",
       " 50.13260943335325,\n",
       " 50.135777236687176,\n",
       " 50.17746258794696,\n",
       " 50.18520781528992,\n",
       " 50.203176832922686,\n",
       " 50.231703213615866,\n",
       " 50.24203383736845,\n",
       " 50.45806328107095,\n",
       " 50.46819256540783,\n",
       " 50.46997688252128,\n",
       " 50.53596439705352,\n",
       " 50.56320595932189,\n",
       " 50.56471347766816,\n",
       " 50.588061554840415,\n",
       " 50.60747797286087,\n",
       " 50.6184045933502,\n",
       " 50.63944770188111,\n",
       " 50.70978897023458,\n",
       " 50.736648814525616,\n",
       " 50.74107954435517,\n",
       " 50.7887890994368,\n",
       " 50.8057769325544,\n",
       " 50.998449689991226,\n",
       " 51.01687949842369,\n",
       " 51.05652112420109,\n",
       " 51.10078687401004,\n",
       " 51.13974677072618,\n",
       " 51.15459823000849,\n",
       " 51.160123819465056,\n",
       " 51.16758190791444,\n",
       " 51.176054073479705,\n",
       " 51.28699581108493,\n",
       " 51.2934564323551,\n",
       " 51.31988418980577,\n",
       " 51.32902800893768,\n",
       " 51.32904213590349,\n",
       " 51.40830553286226,\n",
       " 51.423208954879385,\n",
       " 51.43712256485603,\n",
       " 51.44492240452624,\n",
       " 51.48439341737272,\n",
       " 51.486386693662354,\n",
       " 51.58914206820651,\n",
       " 51.598788737716575,\n",
       " 51.60091172353838,\n",
       " 51.638296492724464,\n",
       " 51.64992476639709,\n",
       " 51.69088893156983,\n",
       " 51.70639277782215,\n",
       " 51.71558996473165,\n",
       " 51.73680474787002,\n",
       " 51.80153663413294,\n",
       " 51.99669090263328,\n",
       " 52.1011050876583,\n",
       " 52.12107856672274,\n",
       " 52.12232827741129,\n",
       " 52.13259354403293,\n",
       " 52.164197507045664,\n",
       " 52.24098144045757,\n",
       " 52.269208373359504,\n",
       " 52.27219588117645,\n",
       " 52.45378817864356,\n",
       " 52.464744345289446,\n",
       " 52.51361946726461,\n",
       " 52.52994039819566,\n",
       " 52.5807939549628,\n",
       " 52.655776026655765,\n",
       " 52.65752181401611,\n",
       " 52.785649242403245,\n",
       " 52.88011505598433,\n",
       " 52.88905619690989,\n",
       " 52.95423867590507,\n",
       " 52.983391535983,\n",
       " 53.00778121610966,\n",
       " 53.00906666570132,\n",
       " 53.0153913584565,\n",
       " 53.04701603141368,\n",
       " 53.08049617276035,\n",
       " 53.09101901987472,\n",
       " 53.12488334719218,\n",
       " 53.16668023023869,\n",
       " 53.18674323345951,\n",
       " 53.20688127277427,\n",
       " 53.22244563070213,\n",
       " 53.30209234995704,\n",
       " 53.30357696049089,\n",
       " 53.35824949232623,\n",
       " 53.39765912021987,\n",
       " 53.40278003156924,\n",
       " 53.40402968415714,\n",
       " 53.40644194895037,\n",
       " 53.42307824481553,\n",
       " 53.471199155034114,\n",
       " 53.580967690249736,\n",
       " 53.595222954306045,\n",
       " 53.621752897564285,\n",
       " 53.62881910743936,\n",
       " 53.64344445761297,\n",
       " 53.68506884032796,\n",
       " 53.72366453617835,\n",
       " 53.732765735560825,\n",
       " 53.77034999531364,\n",
       " 53.84084391685665,\n",
       " 53.884411832671326,\n",
       " 53.91675355335756,\n",
       " 53.92655547153184,\n",
       " 53.99949999548653,\n",
       " 54.03284393711439,\n",
       " 54.03424740490816,\n",
       " 54.05414716877587,\n",
       " 54.10113874286098,\n",
       " 54.10229363677008,\n",
       " 54.27209111256296,\n",
       " 54.28738040200663,\n",
       " 54.37398208594085,\n",
       " 54.374391479745285,\n",
       " 54.39265020074391,\n",
       " 54.43671390629753,\n",
       " 54.46113493291361,\n",
       " 54.51569089811542,\n",
       " 54.54412076352461,\n",
       " 54.56017982384648,\n",
       " 54.6436475469632,\n",
       " 54.73361949970546,\n",
       " 54.75947136235224,\n",
       " 54.84220401411331,\n",
       " 54.8616483783148,\n",
       " 54.87436523514248,\n",
       " 54.87459482669546,\n",
       " 54.88858254585445,\n",
       " 55.16699817572746,\n",
       " 55.229114707546685,\n",
       " 55.27622290039248,\n",
       " 55.30205263113768,\n",
       " 55.334901380238,\n",
       " 55.40863167550884,\n",
       " 55.496577990651694,\n",
       " 55.51645776871703,\n",
       " 55.64938866027555,\n",
       " 55.7279450939189,\n",
       " 55.75957975350085,\n",
       " 55.762769143991385,\n",
       " 55.90920066157212,\n",
       " 55.98420251312155,\n",
       " 56.02229932760858,\n",
       " 56.08670445245113,\n",
       " 56.17281540962934,\n",
       " 56.17739284754435,\n",
       " 56.187273349586,\n",
       " 56.20119273033933,\n",
       " 56.21774574892814,\n",
       " 56.23251220151044,\n",
       " 56.30272072616763,\n",
       " 56.30577032216402,\n",
       " 56.31571717410738,\n",
       " 56.33104349727379,\n",
       " 56.36103636273701,\n",
       " 56.36759798241702,\n",
       " 56.3870672681982,\n",
       " 56.457544862111966,\n",
       " 56.60599108561676,\n",
       " 56.651448676850265,\n",
       " 56.65417471093848,\n",
       " 56.7291770285,\n",
       " 56.777869962056826,\n",
       " 56.86758531140235,\n",
       " 56.93981410115457,\n",
       " 56.98705443343292,\n",
       " 57.01536235466741,\n",
       " 57.05497566438186,\n",
       " 57.075706064506434,\n",
       " 57.100574880479925,\n",
       " 57.17322724529512,\n",
       " 57.17937364716728,\n",
       " 57.18819037166321,\n",
       " 57.20443867537456,\n",
       " 57.23455758955471,\n",
       " 57.28699207100113,\n",
       " 57.362181061832025,\n",
       " 57.42769831850276,\n",
       " 57.45524453589738,\n",
       " 57.4872079268743,\n",
       " 57.59588059813083,\n",
       " 57.6388652022419,\n",
       " 57.65322903023964,\n",
       " 57.66022673612743,\n",
       " 57.67319648243674,\n",
       " 57.69281259163006,\n",
       " 57.75072826516834,\n",
       " 57.82721361872127,\n",
       " 57.92506952620143,\n",
       " 58.04672505561694,\n",
       " 58.073321739819946,\n",
       " 58.10845433746182,\n",
       " 58.13780658831967,\n",
       " 58.15152360380202,\n",
       " 58.22279723347037,\n",
       " 58.26329348316903,\n",
       " 58.30140410529657,\n",
       " 58.32929960343623,\n",
       " 58.40022931415047,\n",
       " 58.501916299999536,\n",
       " 58.51734350816467,\n",
       " 58.54581928556341,\n",
       " 58.58591072167805,\n",
       " 58.601185626140655,\n",
       " 58.63675703312644,\n",
       " 58.63997385165612,\n",
       " 58.64331949298776,\n",
       " 58.64558576646557,\n",
       " 58.69132880867412,\n",
       " 58.73843438856455,\n",
       " 58.77633852968291,\n",
       " 58.809146491380645,\n",
       " 58.81676446052709,\n",
       " 58.85018262250376,\n",
       " 58.91739284487963,\n",
       " 58.938388572069975,\n",
       " 58.975844417116186,\n",
       " 58.98959803653776,\n",
       " 59.02414876019514,\n",
       " 59.08368359506429,\n",
       " 59.0861861804726,\n",
       " 59.12355046706889,\n",
       " 59.2349302499322,\n",
       " 59.24819624207281,\n",
       " 59.27018710232922,\n",
       " 59.3046650601998,\n",
       " 59.31831024192526,\n",
       " 59.34278904423094,\n",
       " 59.34329240291199,\n",
       " 59.3603728083088,\n",
       " 59.43803132814655,\n",
       " 59.4939683862788,\n",
       " 59.529283801872296,\n",
       " 59.56813164304172,\n",
       " 59.62961216615022,\n",
       " 59.63726008172104,\n",
       " 59.65286723392551,\n",
       " 59.71362848204669,\n",
       " 59.71670886046195,\n",
       " 59.72807860544995,\n",
       " 59.77690851927784,\n",
       " 59.80715356007893,\n",
       " 59.81771383445594,\n",
       " 59.85646087946471,\n",
       " 59.91184681449355,\n",
       " 60.038604347062005,\n",
       " 60.05398882880204,\n",
       " 60.067196509895886,\n",
       " 60.12770698208527,\n",
       " 60.15370318038022,\n",
       " 60.19428552945985,\n",
       " 60.2683003842631,\n",
       " 60.35420794910727,\n",
       " 60.37960238952694,\n",
       " 60.42246589377774,\n",
       " 60.433777586279554,\n",
       " 60.57472991303812,\n",
       " ...)"
      ]
     },
     "execution_count": 37,
     "metadata": {},
     "output_type": "execute_result"
    }
   ],
   "source": [
    "x_poly"
   ]
  },
  {
   "cell_type": "code",
   "execution_count": 38,
   "metadata": {
    "colab": {
     "base_uri": "https://localhost:8080/",
     "height": 393
    },
    "executionInfo": {
     "elapsed": 1106,
     "status": "ok",
     "timestamp": 1667448123829,
     "user": {
      "displayName": "AIML Program",
      "userId": "12349933480812372345"
     },
     "user_tz": -330
    },
    "id": "XmszTPYqobze",
    "outputId": "472945bf-fefc-4979-f817-1f9b4c59923c"
   },
   "outputs": [
    {
     "data": {
      "image/png": "[encoded data removed]",
      "text/plain": [
       "<Figure size 1000x600 with 1 Axes>"
      ]
     },
     "metadata": {},
     "output_type": "display_data"
    }
   ],
   "source": [
    "#plotting predictions\n",
    "plt.figure(figsize=(10,6))\n",
    "\n",
    "plt.scatter(x,y,s=15)\n",
    "\n",
    "plt.plot(x,y_pred,color='r',label='Linear Regression')\n",
    "\n",
    "plt.plot(x_poly,poly_pred,color='black',label='Polynomial Regression')\n",
    "\n",
    "plt.xlabel('Predicted label',fontsize=16)\n",
    "plt.ylabel('Actual Label',fontsize=16)\n",
    "plt.legend()\n",
    "plt.show()"
   ]
  },
  {
   "cell_type": "code",
   "execution_count": null,
   "metadata": {
    "id": "C_Y72D_5pox5"
   },
   "outputs": [],
   "source": []
  }
 ],
 "metadata": {
  "colab": {
   "provenance": []
  },
  "kernelspec": {
   "display_name": "Python 3 (ipykernel)",
   "language": "python",
   "name": "python3"
  },
  "language_info": {
   "codemirror_mode": {
    "name": "ipython",
    "version": 3
   },
   "file_extension": ".py",
   "mimetype": "text/x-python",
   "name": "python",
   "nbconvert_exporter": "python",
   "pygments_lexer": "ipython3",
   "version": "3.11.4"
  }
 },
 "nbformat": 4,
 "nbformat_minor": 1
}
